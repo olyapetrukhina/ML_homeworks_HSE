{
  "nbformat": 4,
  "nbformat_minor": 0,
  "metadata": {
    "colab": {
      "provenance": []
    },
    "kernelspec": {
      "name": "python3",
      "display_name": "Python 3"
    },
    "language_info": {
      "name": "python"
    }
  },
  "cells": [
    {
      "cell_type": "markdown",
      "source": [
        "## Задача 1: кластеризация запросов и снижение размерности данных"
      ],
      "metadata": {
        "id": "RH055wuuPmwP"
      }
    },
    {
      "cell_type": "code",
      "source": [
        "import pandas as pd\n",
        "import numpy as np\n",
        "import matplotlib.pyplot as plt\n",
        "from sklearn.feature_extraction.text import TfidfVectorizer\n",
        "from sklearn.cluster import KMeans\n",
        "\n",
        "from collections import defaultdict\n",
        "from sklearn.decomposition import TruncatedSVD, LatentDirichletAllocation\n",
        "from sklearn.metrics import silhouette_score, silhouette_samples, rand_score, adjusted_rand_score, homogeneity_completeness_v_measure\n",
        "from sklearn.model_selection import train_test_split, GridSearchCV\n",
        "from sklearn.preprocessing import OneHotEncoder, LabelEncoder\n",
        "from sklearn.ensemble import RandomForestClassifier\n",
        "from sklearn.metrics import classification_report\n",
        "from sklearn.ensemble import GradientBoostingRegressor, GradientBoostingClassifier\n",
        "\n",
        "import nltk\n",
        "nltk.download('stopwords')\n",
        "from nltk.corpus import stopwords\n",
        "ru_stop_words = stopwords.words('russian')"
      ],
      "metadata": {
        "colab": {
          "base_uri": "https://localhost:8080/"
        },
        "id": "9-_eknim0zEo",
        "outputId": "084a7ee7-50c1-4914-9fc0-b7915db0edfd"
      },
      "execution_count": 2,
      "outputs": [
        {
          "output_type": "stream",
          "name": "stderr",
          "text": [
            "[nltk_data] Downloading package stopwords to /root/nltk_data...\n",
            "[nltk_data]   Package stopwords is already up-to-date!\n"
          ]
        }
      ]
    },
    {
      "cell_type": "markdown",
      "source": [
        "**Данные:** датасет amazon_queries.csv\n",
        "\n",
        "**Основное задание:**\n",
        "\n"
      ],
      "metadata": {
        "id": "cj9rfRx4icSY"
      }
    },
    {
      "cell_type": "markdown",
      "source": [
        "**1.   Выполните предобработку датасета. Подумайте, нужно ли делить данные на тренировочные и тестовые;**"
      ],
      "metadata": {
        "id": "n906qN_H1SU0"
      }
    },
    {
      "cell_type": "code",
      "source": [
        "df = pd.read_csv('amazon_queries.csv')\n",
        "df"
      ],
      "metadata": {
        "colab": {
          "base_uri": "https://localhost:8080/",
          "height": 424
        },
        "id": "oQPCquwF0463",
        "outputId": "c9f2726a-338e-4ff3-d834-7481c5d8b6bf"
      },
      "execution_count": null,
      "outputs": [
        {
          "output_type": "execute_result",
          "data": {
            "text/plain": [
              "                                                   query\n",
              "0                                motorcycle camping tent\n",
              "1                      samson wireless microphone system\n",
              "2                         iphone xs max with ring holder\n",
              "3                                 justice league blu ray\n",
              "4                              funny golf shirts for men\n",
              "...                                                  ...\n",
              "97325                                       bat skeleton\n",
              "97326  jigsaw puzzles 500 pieces for adults famous pa...\n",
              "97327                               squidward nike shoes\n",
              "97328                      travis scott posters for room\n",
              "97329                                        ego trimmer\n",
              "\n",
              "[97330 rows x 1 columns]"
            ],
            "text/html": [
              "\n",
              "  <div id=\"df-f690b226-6420-469e-96ef-552074bca0fc\" class=\"colab-df-container\">\n",
              "    <div>\n",
              "<style scoped>\n",
              "    .dataframe tbody tr th:only-of-type {\n",
              "        vertical-align: middle;\n",
              "    }\n",
              "\n",
              "    .dataframe tbody tr th {\n",
              "        vertical-align: top;\n",
              "    }\n",
              "\n",
              "    .dataframe thead th {\n",
              "        text-align: right;\n",
              "    }\n",
              "</style>\n",
              "<table border=\"1\" class=\"dataframe\">\n",
              "  <thead>\n",
              "    <tr style=\"text-align: right;\">\n",
              "      <th></th>\n",
              "      <th>query</th>\n",
              "    </tr>\n",
              "  </thead>\n",
              "  <tbody>\n",
              "    <tr>\n",
              "      <th>0</th>\n",
              "      <td>motorcycle camping tent</td>\n",
              "    </tr>\n",
              "    <tr>\n",
              "      <th>1</th>\n",
              "      <td>samson wireless microphone system</td>\n",
              "    </tr>\n",
              "    <tr>\n",
              "      <th>2</th>\n",
              "      <td>iphone xs max with ring holder</td>\n",
              "    </tr>\n",
              "    <tr>\n",
              "      <th>3</th>\n",
              "      <td>justice league blu ray</td>\n",
              "    </tr>\n",
              "    <tr>\n",
              "      <th>4</th>\n",
              "      <td>funny golf shirts for men</td>\n",
              "    </tr>\n",
              "    <tr>\n",
              "      <th>...</th>\n",
              "      <td>...</td>\n",
              "    </tr>\n",
              "    <tr>\n",
              "      <th>97325</th>\n",
              "      <td>bat skeleton</td>\n",
              "    </tr>\n",
              "    <tr>\n",
              "      <th>97326</th>\n",
              "      <td>jigsaw puzzles 500 pieces for adults famous pa...</td>\n",
              "    </tr>\n",
              "    <tr>\n",
              "      <th>97327</th>\n",
              "      <td>squidward nike shoes</td>\n",
              "    </tr>\n",
              "    <tr>\n",
              "      <th>97328</th>\n",
              "      <td>travis scott posters for room</td>\n",
              "    </tr>\n",
              "    <tr>\n",
              "      <th>97329</th>\n",
              "      <td>ego trimmer</td>\n",
              "    </tr>\n",
              "  </tbody>\n",
              "</table>\n",
              "<p>97330 rows × 1 columns</p>\n",
              "</div>\n",
              "    <div class=\"colab-df-buttons\">\n",
              "\n",
              "  <div class=\"colab-df-container\">\n",
              "    <button class=\"colab-df-convert\" onclick=\"convertToInteractive('df-f690b226-6420-469e-96ef-552074bca0fc')\"\n",
              "            title=\"Convert this dataframe to an interactive table.\"\n",
              "            style=\"display:none;\">\n",
              "\n",
              "  <svg xmlns=\"http://www.w3.org/2000/svg\" height=\"24px\" viewBox=\"0 -960 960 960\">\n",
              "    <path d=\"M120-120v-720h720v720H120Zm60-500h600v-160H180v160Zm220 220h160v-160H400v160Zm0 220h160v-160H400v160ZM180-400h160v-160H180v160Zm440 0h160v-160H620v160ZM180-180h160v-160H180v160Zm440 0h160v-160H620v160Z\"/>\n",
              "  </svg>\n",
              "    </button>\n",
              "\n",
              "  <style>\n",
              "    .colab-df-container {\n",
              "      display:flex;\n",
              "      gap: 12px;\n",
              "    }\n",
              "\n",
              "    .colab-df-convert {\n",
              "      background-color: #E8F0FE;\n",
              "      border: none;\n",
              "      border-radius: 50%;\n",
              "      cursor: pointer;\n",
              "      display: none;\n",
              "      fill: #1967D2;\n",
              "      height: 32px;\n",
              "      padding: 0 0 0 0;\n",
              "      width: 32px;\n",
              "    }\n",
              "\n",
              "    .colab-df-convert:hover {\n",
              "      background-color: #E2EBFA;\n",
              "      box-shadow: 0px 1px 2px rgba(60, 64, 67, 0.3), 0px 1px 3px 1px rgba(60, 64, 67, 0.15);\n",
              "      fill: #174EA6;\n",
              "    }\n",
              "\n",
              "    .colab-df-buttons div {\n",
              "      margin-bottom: 4px;\n",
              "    }\n",
              "\n",
              "    [theme=dark] .colab-df-convert {\n",
              "      background-color: #3B4455;\n",
              "      fill: #D2E3FC;\n",
              "    }\n",
              "\n",
              "    [theme=dark] .colab-df-convert:hover {\n",
              "      background-color: #434B5C;\n",
              "      box-shadow: 0px 1px 3px 1px rgba(0, 0, 0, 0.15);\n",
              "      filter: drop-shadow(0px 1px 2px rgba(0, 0, 0, 0.3));\n",
              "      fill: #FFFFFF;\n",
              "    }\n",
              "  </style>\n",
              "\n",
              "    <script>\n",
              "      const buttonEl =\n",
              "        document.querySelector('#df-f690b226-6420-469e-96ef-552074bca0fc button.colab-df-convert');\n",
              "      buttonEl.style.display =\n",
              "        google.colab.kernel.accessAllowed ? 'block' : 'none';\n",
              "\n",
              "      async function convertToInteractive(key) {\n",
              "        const element = document.querySelector('#df-f690b226-6420-469e-96ef-552074bca0fc');\n",
              "        const dataTable =\n",
              "          await google.colab.kernel.invokeFunction('convertToInteractive',\n",
              "                                                    [key], {});\n",
              "        if (!dataTable) return;\n",
              "\n",
              "        const docLinkHtml = 'Like what you see? Visit the ' +\n",
              "          '<a target=\"_blank\" href=https://colab.research.google.com/notebooks/data_table.ipynb>data table notebook</a>'\n",
              "          + ' to learn more about interactive tables.';\n",
              "        element.innerHTML = '';\n",
              "        dataTable['output_type'] = 'display_data';\n",
              "        await google.colab.output.renderOutput(dataTable, element);\n",
              "        const docLink = document.createElement('div');\n",
              "        docLink.innerHTML = docLinkHtml;\n",
              "        element.appendChild(docLink);\n",
              "      }\n",
              "    </script>\n",
              "  </div>\n",
              "\n",
              "\n",
              "<div id=\"df-be5d0408-3a75-4cc1-aa98-4242c23030bb\">\n",
              "  <button class=\"colab-df-quickchart\" onclick=\"quickchart('df-be5d0408-3a75-4cc1-aa98-4242c23030bb')\"\n",
              "            title=\"Suggest charts\"\n",
              "            style=\"display:none;\">\n",
              "\n",
              "<svg xmlns=\"http://www.w3.org/2000/svg\" height=\"24px\"viewBox=\"0 0 24 24\"\n",
              "     width=\"24px\">\n",
              "    <g>\n",
              "        <path d=\"M19 3H5c-1.1 0-2 .9-2 2v14c0 1.1.9 2 2 2h14c1.1 0 2-.9 2-2V5c0-1.1-.9-2-2-2zM9 17H7v-7h2v7zm4 0h-2V7h2v10zm4 0h-2v-4h2v4z\"/>\n",
              "    </g>\n",
              "</svg>\n",
              "  </button>\n",
              "\n",
              "<style>\n",
              "  .colab-df-quickchart {\n",
              "      --bg-color: #E8F0FE;\n",
              "      --fill-color: #1967D2;\n",
              "      --hover-bg-color: #E2EBFA;\n",
              "      --hover-fill-color: #174EA6;\n",
              "      --disabled-fill-color: #AAA;\n",
              "      --disabled-bg-color: #DDD;\n",
              "  }\n",
              "\n",
              "  [theme=dark] .colab-df-quickchart {\n",
              "      --bg-color: #3B4455;\n",
              "      --fill-color: #D2E3FC;\n",
              "      --hover-bg-color: #434B5C;\n",
              "      --hover-fill-color: #FFFFFF;\n",
              "      --disabled-bg-color: #3B4455;\n",
              "      --disabled-fill-color: #666;\n",
              "  }\n",
              "\n",
              "  .colab-df-quickchart {\n",
              "    background-color: var(--bg-color);\n",
              "    border: none;\n",
              "    border-radius: 50%;\n",
              "    cursor: pointer;\n",
              "    display: none;\n",
              "    fill: var(--fill-color);\n",
              "    height: 32px;\n",
              "    padding: 0;\n",
              "    width: 32px;\n",
              "  }\n",
              "\n",
              "  .colab-df-quickchart:hover {\n",
              "    background-color: var(--hover-bg-color);\n",
              "    box-shadow: 0 1px 2px rgba(60, 64, 67, 0.3), 0 1px 3px 1px rgba(60, 64, 67, 0.15);\n",
              "    fill: var(--button-hover-fill-color);\n",
              "  }\n",
              "\n",
              "  .colab-df-quickchart-complete:disabled,\n",
              "  .colab-df-quickchart-complete:disabled:hover {\n",
              "    background-color: var(--disabled-bg-color);\n",
              "    fill: var(--disabled-fill-color);\n",
              "    box-shadow: none;\n",
              "  }\n",
              "\n",
              "  .colab-df-spinner {\n",
              "    border: 2px solid var(--fill-color);\n",
              "    border-color: transparent;\n",
              "    border-bottom-color: var(--fill-color);\n",
              "    animation:\n",
              "      spin 1s steps(1) infinite;\n",
              "  }\n",
              "\n",
              "  @keyframes spin {\n",
              "    0% {\n",
              "      border-color: transparent;\n",
              "      border-bottom-color: var(--fill-color);\n",
              "      border-left-color: var(--fill-color);\n",
              "    }\n",
              "    20% {\n",
              "      border-color: transparent;\n",
              "      border-left-color: var(--fill-color);\n",
              "      border-top-color: var(--fill-color);\n",
              "    }\n",
              "    30% {\n",
              "      border-color: transparent;\n",
              "      border-left-color: var(--fill-color);\n",
              "      border-top-color: var(--fill-color);\n",
              "      border-right-color: var(--fill-color);\n",
              "    }\n",
              "    40% {\n",
              "      border-color: transparent;\n",
              "      border-right-color: var(--fill-color);\n",
              "      border-top-color: var(--fill-color);\n",
              "    }\n",
              "    60% {\n",
              "      border-color: transparent;\n",
              "      border-right-color: var(--fill-color);\n",
              "    }\n",
              "    80% {\n",
              "      border-color: transparent;\n",
              "      border-right-color: var(--fill-color);\n",
              "      border-bottom-color: var(--fill-color);\n",
              "    }\n",
              "    90% {\n",
              "      border-color: transparent;\n",
              "      border-bottom-color: var(--fill-color);\n",
              "    }\n",
              "  }\n",
              "</style>\n",
              "\n",
              "  <script>\n",
              "    async function quickchart(key) {\n",
              "      const quickchartButtonEl =\n",
              "        document.querySelector('#' + key + ' button');\n",
              "      quickchartButtonEl.disabled = true;  // To prevent multiple clicks.\n",
              "      quickchartButtonEl.classList.add('colab-df-spinner');\n",
              "      try {\n",
              "        const charts = await google.colab.kernel.invokeFunction(\n",
              "            'suggestCharts', [key], {});\n",
              "      } catch (error) {\n",
              "        console.error('Error during call to suggestCharts:', error);\n",
              "      }\n",
              "      quickchartButtonEl.classList.remove('colab-df-spinner');\n",
              "      quickchartButtonEl.classList.add('colab-df-quickchart-complete');\n",
              "    }\n",
              "    (() => {\n",
              "      let quickchartButtonEl =\n",
              "        document.querySelector('#df-be5d0408-3a75-4cc1-aa98-4242c23030bb button');\n",
              "      quickchartButtonEl.style.display =\n",
              "        google.colab.kernel.accessAllowed ? 'block' : 'none';\n",
              "    })();\n",
              "  </script>\n",
              "</div>\n",
              "    </div>\n",
              "  </div>\n"
            ],
            "application/vnd.google.colaboratory.intrinsic+json": {
              "type": "dataframe",
              "variable_name": "df",
              "summary": "{\n  \"name\": \"df\",\n  \"rows\": 97330,\n  \"fields\": [\n    {\n      \"column\": \"query\",\n      \"properties\": {\n        \"dtype\": \"string\",\n        \"num_unique_values\": 97330,\n        \"samples\": [\n          \"a day without wine is like just kidding\",\n          \"moralia plutarch\",\n          \"iphone 7 battery replacement\"\n        ],\n        \"semantic_type\": \"\",\n        \"description\": \"\"\n      }\n    }\n  ]\n}"
            }
          },
          "metadata": {},
          "execution_count": 7
        }
      ]
    },
    {
      "cell_type": "code",
      "source": [
        "queries = list(set(df['query'].tolist()))\n",
        "\n",
        "#queries"
      ],
      "metadata": {
        "collapsed": true,
        "id": "gskq_DrD18OE"
      },
      "execution_count": null,
      "outputs": []
    },
    {
      "cell_type": "code",
      "source": [
        "vectors = TfidfVectorizer().fit_transform(queries)\n",
        "\n",
        "# делить данные на тренировочные и тестовые не требуется, т.к. у нас нет независимой переменной"
      ],
      "metadata": {
        "id": "s6VT_uja2KqN"
      },
      "execution_count": null,
      "outputs": []
    },
    {
      "cell_type": "markdown",
      "source": [
        "**2.   Выполните кластеризацию методом К средних**"
      ],
      "metadata": {
        "id": "YGtvG0Ps2dEx"
      }
    },
    {
      "cell_type": "code",
      "source": [
        "k_means_ = KMeans(n_clusters=10).fit(vectors)"
      ],
      "metadata": {
        "colab": {
          "base_uri": "https://localhost:8080/"
        },
        "id": "mMGz7Vsl2giH",
        "outputId": "987190c9-9f4a-4f2d-854f-57d2b17b4c76"
      },
      "execution_count": null,
      "outputs": [
        {
          "output_type": "stream",
          "name": "stderr",
          "text": [
            "/usr/local/lib/python3.10/dist-packages/sklearn/cluster/_kmeans.py:870: FutureWarning: The default value of `n_init` will change from 10 to 'auto' in 1.4. Set the value of `n_init` explicitly to suppress the warning\n",
            "  warnings.warn(\n"
          ]
        }
      ]
    },
    {
      "cell_type": "markdown",
      "source": [
        "**3.   Посмотрите на запросы каждого кластера**"
      ],
      "metadata": {
        "id": "7S4uF0X123Tv"
      }
    },
    {
      "cell_type": "code",
      "source": [
        "texts_ = defaultdict(list)"
      ],
      "metadata": {
        "id": "zp-jgPJV3i27"
      },
      "execution_count": null,
      "outputs": []
    },
    {
      "cell_type": "code",
      "source": [
        "for text, cluster in zip(queries, k_means_.labels_):\n",
        "  texts_[cluster].append(text)"
      ],
      "metadata": {
        "id": "E67-3UWD25Sl"
      },
      "execution_count": null,
      "outputs": []
    },
    {
      "cell_type": "code",
      "source": [
        "texts_"
      ],
      "metadata": {
        "collapsed": true,
        "id": "wcdulcN931sa"
      },
      "execution_count": null,
      "outputs": []
    },
    {
      "cell_type": "code",
      "source": [
        "texts_.keys()\n"
      ],
      "metadata": {
        "colab": {
          "base_uri": "https://localhost:8080/"
        },
        "id": "sHx7r2_b349b",
        "outputId": "d6c0741f-7801-48e2-9257-5c78a0b4d970"
      },
      "execution_count": null,
      "outputs": [
        {
          "output_type": "execute_result",
          "data": {
            "text/plain": [
              "dict_keys([1, 0, 5, 3, 7, 2, 9, 8, 4, 6])"
            ]
          },
          "metadata": {},
          "execution_count": 22
        }
      ]
    },
    {
      "cell_type": "code",
      "source": [
        "# @title\n",
        "texts_[6][:5]"
      ],
      "metadata": {
        "colab": {
          "base_uri": "https://localhost:8080/"
        },
        "id": "bOYpdzGL38Ue",
        "outputId": "9fcf774e-4364-483c-f661-75624c0bfa78"
      },
      "execution_count": null,
      "outputs": [
        {
          "output_type": "execute_result",
          "data": {
            "text/plain": [
              "['its colombai not columbia',\n",
              " 'the journey of not knowing',\n",
              " '1 hour twist timer not photo electric electrical outlets',\n",
              " 'do not roll down window stickers',\n",
              " 'the not a cat cat']"
            ]
          },
          "metadata": {},
          "execution_count": 23
        }
      ]
    },
    {
      "cell_type": "markdown",
      "source": [
        "**4.   Снизьте размерность данных при помощи любого известного вам метода (подумайте, какой метод здесь будет наиболее подходящим)**"
      ],
      "metadata": {
        "id": "dXZGAdPe5zRE"
      }
    },
    {
      "cell_type": "code",
      "source": [
        "# наиболее подходящим будет сингулярное разложение\n",
        "\n",
        "model = TruncatedSVD(n_components=100)\n",
        "\n",
        "reduced_matrix = model.fit_transform(vectors)"
      ],
      "metadata": {
        "id": "DNQioTc-4JC8"
      },
      "execution_count": null,
      "outputs": []
    },
    {
      "cell_type": "code",
      "source": [
        "reduced_matrix.shape"
      ],
      "metadata": {
        "colab": {
          "base_uri": "https://localhost:8080/"
        },
        "id": "qclSW5lH6mmS",
        "outputId": "b2807026-8362-4db2-b08e-1a4db785854e"
      },
      "execution_count": null,
      "outputs": [
        {
          "output_type": "execute_result",
          "data": {
            "text/plain": [
              "(97330, 100)"
            ]
          },
          "metadata": {},
          "execution_count": 26
        }
      ]
    },
    {
      "cell_type": "markdown",
      "source": [
        "**5.   Кластеризуйте данные сниженной размерности такой же моделью, как и в шаге 2**"
      ],
      "metadata": {
        "id": "U16uH-Sm65dp"
      }
    },
    {
      "cell_type": "code",
      "source": [
        "k_means_reduced = KMeans(n_clusters=10).fit(reduced_matrix)"
      ],
      "metadata": {
        "colab": {
          "base_uri": "https://localhost:8080/"
        },
        "id": "xU6DMpvm688g",
        "outputId": "26bcbd47-c81d-4a00-db39-c264c39e0991"
      },
      "execution_count": null,
      "outputs": [
        {
          "output_type": "stream",
          "name": "stderr",
          "text": [
            "/usr/local/lib/python3.10/dist-packages/sklearn/cluster/_kmeans.py:870: FutureWarning: The default value of `n_init` will change from 10 to 'auto' in 1.4. Set the value of `n_init` explicitly to suppress the warning\n",
            "  warnings.warn(\n"
          ]
        }
      ]
    },
    {
      "cell_type": "markdown",
      "source": [
        "**6.   При помощи метрик, не требующих наличия тестового множества, сравните качество кластеризации на исходных данных и данных сниженной размерности.**"
      ],
      "metadata": {
        "id": "rHkci-RH7Nqz"
      }
    },
    {
      "cell_type": "code",
      "source": [
        "silhouette_ = silhouette_score(vectors, k_means_.labels_)"
      ],
      "metadata": {
        "id": "aamEKBmf7O5K"
      },
      "execution_count": null,
      "outputs": []
    },
    {
      "cell_type": "code",
      "source": [
        "silhouette_"
      ],
      "metadata": {
        "colab": {
          "base_uri": "https://localhost:8080/"
        },
        "collapsed": true,
        "id": "RJ1p6G1H71AW",
        "outputId": "7f15c4a5-308d-4b8f-bac3-8b3ff07a29c7"
      },
      "execution_count": null,
      "outputs": [
        {
          "output_type": "execute_result",
          "data": {
            "text/plain": [
              "0.007106701673117446"
            ]
          },
          "metadata": {},
          "execution_count": 30
        }
      ]
    },
    {
      "cell_type": "code",
      "source": [
        "silhouette_reduced = silhouette_score(vectors, k_means_reduced.labels_)"
      ],
      "metadata": {
        "id": "LZVZgGuZ7t8H"
      },
      "execution_count": null,
      "outputs": []
    },
    {
      "cell_type": "code",
      "source": [
        "silhouette_reduced"
      ],
      "metadata": {
        "colab": {
          "base_uri": "https://localhost:8080/"
        },
        "collapsed": true,
        "id": "5nvZryds716R",
        "outputId": "0518e55c-b47a-40dd-9384-283182dc2e2f"
      },
      "execution_count": null,
      "outputs": [
        {
          "output_type": "execute_result",
          "data": {
            "text/plain": [
              "0.0075320878909118354"
            ]
          },
          "metadata": {},
          "execution_count": 32
        }
      ]
    },
    {
      "cell_type": "markdown",
      "source": [
        "## Задача 2: тематическое моделирование методом LDA"
      ],
      "metadata": {
        "id": "SSBXHtTDmw4y"
      }
    },
    {
      "cell_type": "markdown",
      "source": [
        "**Данные:** АРХИВ лемматизированных русских текстов ruslit_lemmas.zip\n",
        "\n",
        "**Основное задание:**"
      ],
      "metadata": {
        "id": "uHGpm-8qxNpS"
      }
    },
    {
      "cell_type": "markdown",
      "source": [
        "**1. Достаньте тексты и (на всякий случай) их названия из архива**"
      ],
      "metadata": {
        "id": "4KDCA0MMwaAJ"
      }
    },
    {
      "cell_type": "code",
      "source": [
        "from zipfile import ZipFile\n",
        "\n",
        "path_to_archive = 'ruslit_lemmas.zip'\n",
        "\n",
        "def texts_from_zip(path_to_archive):\n",
        "    texts = []\n",
        "    with ZipFile(path_to_archive) as zip_archive:\n",
        "        for name in zip_archive.namelist():\n",
        "            if '.txt' in name:\n",
        "                text = zip_archive.read(name)\n",
        "                text = text.decode('utf-8')\n",
        "                texts.append(text)\n",
        "    return texts\n",
        "\n",
        "def get_filenames(path_to_archive):\n",
        "\n",
        "    names = []\n",
        "\n",
        "    with ZipFile(path_to_archive) as zip_archive:\n",
        "        for name in zip_archive.namelist():\n",
        "            if '.txt' in name:\n",
        "                names.append(name.split('/')[1])\n",
        "\n",
        "    return names"
      ],
      "metadata": {
        "id": "YMK3211iwX5R"
      },
      "execution_count": null,
      "outputs": []
    },
    {
      "cell_type": "markdown",
      "source": [
        "**2.   Векторизуйте тексты. Ограничьте количество используемых признаков до 6000 и используйте стоп-слова**"
      ],
      "metadata": {
        "id": "ZJ6h399RT4Cx"
      }
    },
    {
      "cell_type": "code",
      "source": [
        "names = get_filenames(path_to_archive)\n",
        "texts = texts_from_zip(path_to_archive)"
      ],
      "metadata": {
        "id": "t7euQb9JUWWU"
      },
      "execution_count": null,
      "outputs": []
    },
    {
      "cell_type": "code",
      "source": [
        "tf_vectorizer = TfidfVectorizer(max_features = 6000,\n",
        "                                stop_words = ru_stop_words)"
      ],
      "metadata": {
        "id": "_783AeMrT-vl"
      },
      "execution_count": null,
      "outputs": []
    },
    {
      "cell_type": "code",
      "source": [
        "vectors = tf_vectorizer.fit_transform(texts)"
      ],
      "metadata": {
        "id": "lPtuC0F2T7mr"
      },
      "execution_count": null,
      "outputs": []
    },
    {
      "cell_type": "markdown",
      "source": [
        "**3.   Сделайте тематическое моделирование при помощи латентного размещения Дирихле. Число компонент выберите любое**"
      ],
      "metadata": {
        "id": "s8WO_3yVU3xw"
      }
    },
    {
      "cell_type": "code",
      "source": [
        "lda = LatentDirichletAllocation(n_components=100, random_state=0)"
      ],
      "metadata": {
        "id": "7U0lLoMuU5k9"
      },
      "execution_count": null,
      "outputs": []
    },
    {
      "cell_type": "code",
      "source": [
        "topic = lda.fit_transform(vectors)"
      ],
      "metadata": {
        "id": "OHuEcxgcVFY_"
      },
      "execution_count": null,
      "outputs": []
    },
    {
      "cell_type": "markdown",
      "source": [
        "**4.   Выведите топовые слова каждой компоненты.**"
      ],
      "metadata": {
        "id": "ydFmR4LNVZt8"
      }
    },
    {
      "cell_type": "code",
      "source": [
        "feature_names = tf_vectorizer.get_feature_names_out()\n",
        "\n",
        "top_features_per_topic = defaultdict(list)\n",
        "n_top_words = 25\n",
        "\n",
        "for topic_idx, topic in enumerate(lda.components_):\n",
        "    top_features_ind = topic.argsort()[:-n_top_words - 1:-1]\n",
        "    top_features = [feature_names[i] for i in top_features_ind]\n",
        "    top_features_per_topic[topic_idx] = top_features"
      ],
      "metadata": {
        "id": "7wQBi3ipVdVO"
      },
      "execution_count": null,
      "outputs": []
    },
    {
      "cell_type": "code",
      "source": [
        "for topic, features in top_features_per_topic.items():\n",
        "    print(f\"Topic {topic}: {features}\")"
      ],
      "metadata": {
        "colab": {
          "base_uri": "https://localhost:8080/"
        },
        "id": "JUo9erytWH7z",
        "outputId": "de9ea00c-4c6d-495c-cc16-067e103f1bee"
      },
      "execution_count": null,
      "outputs": [
        {
          "output_type": "stream",
          "name": "stdout",
          "text": [
            "Topic 0: ['ивановна', 'елена', 'нехлюдов', 'свобода', 'партия', 'неожиданно', 'рабство', 'матвеич', 'сиятельство', 'крокодил', 'одинаково', 'всеобщий', 'революция', 'обертываться', 'естественно', 'наставать', 'основывать', 'призрак', 'наедине', 'хохот', 'наклоняться', 'освобождаться', 'кофе', 'поведение', 'обходиться']\n",
            "Topic 1: ['нина', 'библиотека', 'тогдашний', 'весть', 'добиваться', 'юность', 'германия', 'наносить', 'повторяться', 'всматриваться', 'элемент', 'пленный', 'шпага', 'восстанавливать', 'мрамор', 'приготовление', 'строй', 'огорчать', 'комендант', 'окликать', 'владелец', 'прокламация', 'истязание', 'шпион', 'вывозить']\n",
            "Topic 2: ['германн', 'зеркало', 'весна', 'лизавета', 'графиня', 'ивановна', 'петя', 'седло', 'бурый', 'растопчин', 'румянец', 'чахоточный', 'гостья', 'дабы', 'алпатыч', 'смоленск', 'балашев', 'обоз', 'аптека', 'бородинский', 'дрянь', 'изображение', 'посматривать', 'буквально', 'ростов']\n",
            "Topic 3: ['дергать', 'употребление', 'тянуть', 'рыбина', 'веселие', 'рвать', 'соблазн', 'вред', 'обычай', 'ниловна', 'соблазнять', 'людмила', 'пьянство', 'приготовление', 'погибель', 'кожаный', 'возраст', 'прикладывать', 'береза', 'креститься', 'порох', 'ошеломлять', 'срываться', 'суета', 'пение']\n",
            "Topic 4: ['модест', 'екатерина', 'лаврецкий', 'жертва', 'пытаться', 'позабывать', 'мучительный', 'дмитриевна', 'несомненно', 'департамент', 'хорошенько', 'европейский', 'ресторан', 'васильевна', 'ноябрь', 'собачонка', 'чрезвычайный', 'умственный', 'намек', 'вздумать', 'уличный', 'обладать', 'столик', 'погасать', 'обычай']\n",
            "Topic 5: ['акакий', 'акакиевич', 'пегий', 'мерин', 'бурый', 'роса', 'мертвец', 'седло', 'прикладывать', 'лошадка', 'красавица', 'край', 'крайне', 'крайний', 'крайность', 'красавец', 'красивый', 'красиво', 'краска', 'краснеть', 'красноречие', 'красный', 'красота', 'краткий', 'кратко']\n",
            "Topic 6: ['алеша', 'бессеменов', 'тетерев', 'нил', 'татьяна', 'перчихин', 'акулина', 'горшок', 'поля', 'елена', 'ивановна', 'степанида', 'таня', 'петя', 'сбегать', 'крафт', 'край', 'крепко', 'крайне', 'крепкий', 'крайний', 'крайность', 'красавец', 'краткий', 'красавица']\n",
            "Topic 7: ['подпрыгивать', 'передовой', 'кресло', 'красноречие', 'крайний', 'крайность', 'красавец', 'красавица', 'красиво', 'красивый', 'краска', 'краснеть', 'красный', 'крепость', 'край', 'красота', 'краткий', 'кратко', 'крафт', 'крепкий', 'крепко', 'крепостной', 'крайне', 'кошка', 'крестить']\n",
            "Topic 8: ['черт', 'правда', 'домой', 'бумага', 'волна', 'радость', 'молча', 'изба', 'объяснять', 'кресло', 'закрывать', 'купец', 'юноша', 'надевать', 'крик', 'исчезать', 'туча', 'ступать', 'птица', 'чужой', 'например', 'знак', 'пред', 'кровать', 'ах']\n",
            "Topic 9: ['осип', 'пристав', 'выкидывать', 'порывать', 'любитель', 'скверно', 'прибирать', 'раскраснеться', 'истерика', 'чахоточный', 'шельма', 'выговор', 'избыток', 'дрянь', 'затевать', 'прикладывать', 'оканчивать', 'крафт', 'красавец', 'красный', 'крайне', 'крайний', 'крайность', 'краткий', 'кратко']\n",
            "Topic 10: ['настенька', 'мятежник', 'сравнительно', 'заранее', 'невероятный', 'насколько', 'матрена', 'скамейка', 'навещать', 'буквально', 'досадовать', 'крайность', 'красавец', 'красавица', 'крайний', 'красиво', 'красивый', 'краснеть', 'краска', 'край', 'красноречие', 'красный', 'красота', 'краткий', 'кратко']\n",
            "Topic 11: ['блондинка', 'бить', 'жена', 'личный', 'буква', 'разбойник', 'употреблять', 'десять', 'умный', 'краткий', 'край', 'крайне', 'крайний', 'крепкий', 'крайность', 'красавец', 'красавица', 'красиво', 'красота', 'красивый', 'краска', 'кошка', 'краснеть', 'красноречие', 'крафт']\n",
            "Topic 12: ['сергеевна', 'сергеевич', 'анатоль', 'нанимать', 'камердинер', 'камин', 'императрица', 'генеральша', 'неясный', 'набережная', 'доноситься', 'утихать', 'каприз', 'видеться', 'перстень', 'бишь', 'приключение', 'неровный', 'зашевелиться', 'обморок', 'кость', 'костюм', 'красавец', 'корпус', 'красавица']\n",
            "Topic 13: ['сознание', 'лиза', 'барыня', 'взор', 'отчаяние', 'надобно', 'вечный', 'председатель', 'обстоятельство', 'строгий', 'спокойный', 'стих', 'ложь', 'талант', 'нежели', 'рост', 'расти', 'назначать', 'присутствие', 'оправдывать', 'неподвижный', 'павловна', 'владимир', 'овладевать', 'семейство']\n",
            "Topic 14: ['гоголь', 'оленин', 'действие', 'шампанское', 'вспоминаться', 'лукашка', 'масса', 'брак', 'см', 'рукопись', 'дневник', 'оркестр', 'скучать', 'бешенство', 'ревность', 'сыпаться', 'описание', 'текст', 'сохраняться', 'разврат', 'отверстие', 'соловей', 'период', 'отдых', 'станица']\n",
            "Topic 15: ['емельян', 'рвать', 'сорт', 'орать', 'хвататься', 'царский', 'прикладывать', 'передовой', 'любитель', 'мамаша', 'рекомендовать', 'разевать', 'пообедать', 'срываться', 'ноготь', 'мучительный', 'давить', 'скучный', 'кошка', 'красавец', 'крайность', 'крайний', 'красиво', 'красивый', 'крайне']\n",
            "Topic 16: ['фома', 'кузьма', 'аркадий', 'даша', 'маякин', 'ежов', 'влас', 'крестный', 'дарья', 'люба', 'ниловна', 'красавица', 'кофей', 'кофта', 'кошелек', 'кошка', 'край', 'крайне', 'крайний', 'крайность', 'красавец', 'красиво', 'который', 'красивый', 'краска']\n",
            "Topic 17: ['хадж', 'мурат', 'воронцов', 'шамиль', 'пакет', 'бутлер', 'гвардия', 'хан', 'букет', 'ответственность', 'дорожка', 'поездка', 'панов', 'красноречие', 'красавец', 'кратко', 'край', 'крайне', 'крайний', 'крайность', 'краткий', 'краснеть', 'красота', 'красавица', 'красиво']\n",
            "Topic 18: ['пульхерия', 'афанасий', 'ивановна', 'ящик', 'краснеть', 'крайне', 'крайний', 'крайность', 'красавец', 'красавица', 'красиво', 'красивый', 'краска', 'красноречие', 'кошка', 'красный', 'красота', 'краткий', 'кратко', 'крафт', 'крепкий', 'крепко', 'крепостной', 'край', 'кофта']\n",
            "Topic 19: ['иван', 'иваныч', 'дама', 'николай', 'находиться', 'проговаривать', 'имя', 'происходить', 'счастливый', 'боже', 'господи', 'истина', 'вообще', 'петербург', 'состояние', 'ах', 'толстый', 'признаваться', 'жениться', 'поэт', 'карета', 'доставать', 'лакей', 'нос', 'роман']\n",
            "Topic 20: ['патриотизм', 'прасковья', 'татьяна', 'мамаша', 'прачка', 'петровна', 'брак', 'дарья', 'неудовольствие', 'принц', 'надувать', 'хромой', 'прохожий', 'проповедь', 'сравнение', 'существенный', 'струшивать', 'встревожить', 'пуще', 'побывать', 'беречь', 'безобразие', 'вступаться', 'пуд', 'мостовая']\n",
            "Topic 21: ['голядкин', 'филиппович', 'антонович', 'петрушка', 'краснеть', 'крайне', 'крайний', 'крайность', 'красавец', 'красавица', 'красиво', 'красивый', 'краска', 'ящик', 'красноречие', 'кошка', 'красный', 'красота', 'краткий', 'кратко', 'крафт', 'крепкий', 'крепко', 'крепостной', 'край']\n",
            "Topic 22: ['ящик', 'краснеть', 'край', 'крайне', 'крайний', 'крайность', 'красавец', 'красавица', 'красиво', 'красивый', 'краска', 'красноречие', 'крест', 'красный', 'красота', 'краткий', 'кратко', 'крафт', 'крепкий', 'крепко', 'крепостной', 'крепость', 'кошка', 'кошелек', 'кофта']\n",
            "Topic 23: ['друг', 'нога', 'ночь', 'мать', 'дверь', 'город', 'старик', 'спать', 'твой', 'брат', 'доктор', 'окно', 'ко', 'улица', 'улыбаться', 'сын', 'небо', 'двор', 'темный', 'тело', 'сон', 'плечо', 'мир', 'стена', 'деревня']\n",
            "Topic 24: ['павел', 'сани', 'слышно', 'роща', 'павлович', 'григорий', 'торопиться', 'вельчанинов', 'топор', 'липа', 'узкий', 'овраг', 'хозяйство', 'ключ', 'виднеться', 'колесо', 'кисть', 'луг', 'алексеевна', 'карл', 'вишь', 'весенний', 'убегать', 'вдоль', 'душевный']\n",
            "Topic 25: ['ящик', 'краснеть', 'край', 'крайне', 'крайний', 'крайность', 'красавец', 'красавица', 'красиво', 'красивый', 'краска', 'красноречие', 'крест', 'красный', 'красота', 'краткий', 'кратко', 'крафт', 'крепкий', 'крепко', 'крепостной', 'крепость', 'кошка', 'кошелек', 'кофта']\n",
            "Topic 26: ['иисус', 'шевельнуться', 'похоже', 'вблизи', 'доноситься', 'зять', 'красивый', 'крайне', 'крайний', 'крайность', 'красавец', 'красавица', 'красиво', 'краска', 'кошка', 'краснеть', 'красноречие', 'красный', 'красота', 'краткий', 'кратко', 'крафт', 'крепкий', 'крепко', 'край']\n",
            "Topic 27: ['срываться', 'протестовать', 'зашивать', 'ящик', 'краска', 'край', 'крайне', 'крайний', 'крайность', 'красавец', 'красавица', 'красиво', 'красивый', 'краснеть', 'крепость', 'красноречие', 'красный', 'красота', 'краткий', 'кратко', 'крафт', 'крепкий', 'крепко', 'кошка', 'кошелек']\n",
            "Topic 28: ['ред', 'краснеть', 'край', 'крайне', 'крайний', 'крайность', 'красавец', 'красавица', 'красиво', 'красивый', 'краска', 'красноречие', 'кошелек', 'красный', 'красота', 'краткий', 'кратко', 'крафт', 'крепкий', 'крепко', 'крепостной', 'крепость', 'кошка', 'ящик', 'кормилица']\n",
            "Topic 29: ['николаич', 'медицинский', 'постучать', 'зять', 'свидетельство', 'согласие', 'борис', 'клиент', 'развод', 'фома', 'скороговорка', 'мамаша', 'красавец', 'красавица', 'ящик', 'крайность', 'крайний', 'крайне', 'красиво', 'краснеть', 'красивый', 'краска', 'кошка', 'красноречие', 'красный']\n",
            "Topic 30: ['пощечина', 'дважды', 'рассудок', 'нормальный', 'ящик', 'краснеть', 'крайне', 'крайний', 'крайность', 'красавец', 'красавица', 'красиво', 'красивый', 'краска', 'красный', 'красноречие', 'кошка', 'красота', 'краткий', 'кратко', 'крафт', 'крепкий', 'крепко', 'крепостной', 'край']\n",
            "Topic 31: ['колдун', 'кавалер', 'горшок', 'крестный', 'прима', 'опушка', 'михайло', 'иисус', 'полтора', 'крайность', 'красавец', 'красавица', 'красиво', 'красивый', 'краска', 'красноречие', 'краснеть', 'крайне', 'красный', 'красота', 'краткий', 'кратко', 'крафт', 'крепкий', 'крепко']\n",
            "Topic 32: ['двигать', 'возненавидеть', 'надменный', 'поджинать', 'хладнокровно', 'немало', 'брань', 'набок', 'обморок', 'дергать', 'костюм', 'отрывать', 'очутиться', 'выговаривать', 'красиво', 'красавец', 'крайность', 'красавица', 'крайний', 'крайне', 'ящик', 'краснеть', 'красивый', 'краска', 'красноречие']\n",
            "Topic 33: ['гриша', 'судья', 'хи', 'конюшня', 'толстый', 'нянька', 'масло', 'ошеломлять', 'милостыня', 'отличный', 'изумляться', 'миша', 'вельможа', 'благоговение', 'восторженно', 'верхом', 'загадочный', 'прощание', 'барабан', 'помолчать', 'посадить', 'отвертываться', 'плут', 'расплачиваться', 'запачкать']\n",
            "Topic 34: ['чичиков', 'ноздрев', 'собакевич', 'манилов', 'селифан', 'петрушка', 'красивый', 'край', 'крайне', 'крайний', 'крайность', 'красавец', 'красавица', 'красиво', 'ящик', 'краска', 'кошелек', 'краснеть', 'красноречие', 'красный', 'красота', 'краткий', 'кратко', 'крафт', 'крепкий']\n",
            "Topic 35: ['трофимович', 'шатов', 'степанович', 'всеволодович', 'дуб', 'ставрогин', 'липутин', 'кириллов', 'денщик', 'лебядкин', 'лембка', 'юлия', 'маврикий', 'михайловна', 'виргинский', 'кармазинов', 'верховенский', 'одолжение', 'лямшин', 'любитель', 'пес', 'изумляться', 'отличать', 'антонович', 'английский']\n",
            "Topic 36: ['петровна', 'поп', 'медведь', 'девять', 'выговаривать', 'лидия', 'вне', 'различать', 'угрюмо', 'графиня', 'звенеть', 'пчела', 'сибирь', 'покачать', 'пропускать', 'приезд', 'возникать', 'нежность', 'неправда', 'метель', 'выбрасывать', 'честно', 'мадам', 'обедня', 'топот']\n",
            "Topic 37: ['жена', 'ехать', 'мужик', 'рубль', 'читать', 'марья', 'поехать', 'сей', 'служить', 'существо', 'язык', 'кончать', 'государь', 'поглядеть', 'второй', 'билет', 'заниматься', 'карман', 'сергей', 'театр', 'честь', 'ибо', 'хе', 'копейка', 'кабинет']\n",
            "Topic 38: ['литвинов', 'философ', 'ирина', 'козак', 'мазурка', 'хата', 'васильевич', 'потугин', 'кузнец', 'татьяна', 'михайлыч', 'никуда', 'шпага', 'таня', 'крепостной', 'модный', 'кавалер', 'коситься', 'краснеть', 'крайность', 'красавец', 'красавица', 'красиво', 'коротенький', 'красивый']\n",
            "Topic 39: ['татарин', 'круглый', 'игумен', 'баржа', 'рожь', 'прелестный', 'бархатный', 'скакать', 'жаркий', 'замолчать', 'бес', 'предположение', 'восхищение', 'храм', 'сорвать', 'неужто', 'потянуть', 'проезжать', 'юный', 'непонятно', 'масса', 'обещание', 'двигать', 'затворять', 'забросить']\n",
            "Topic 40: ['кхи', 'сеат', 'царевна', 'андреевич', 'глафира', 'царский', 'короче', 'красота', 'красавец', 'красавица', 'красиво', 'красивый', 'краска', 'краснеть', 'красноречие', 'красный', 'краткий', 'крайний', 'кратко', 'крафт', 'крепкий', 'король', 'крепко', 'королева', 'крепостной']\n",
            "Topic 41: ['нехлюдов', 'рената', 'саша', 'варя', 'агриппа', 'маслова', 'маслов', 'генрих', 'рупрехт', 'катюша', 'нина', 'костя', 'архиепископ', 'промелькнуть', 'церемония', 'жаться', 'повисать', 'стеснять', 'пожилой', 'готовить', 'рвать', 'доносить', 'одиночество', 'обертываться', 'молчаливый']\n",
            "Topic 42: ['челкаш', 'гаврила', 'аптека', 'сатин', 'наташа', 'храм', 'настя', 'статуя', 'любезный', 'пепел', 'божественный', 'лука', 'бубен', 'империя', 'медленный', 'озарять', 'василиса', 'клещ', 'швейцария', 'мудрено', 'алтарь', 'горячка', 'упоение', 'поздний', 'наследство']\n",
            "Topic 43: ['степанович', 'анатоль', 'тит', 'михайло', 'настасья', 'андреевна', 'красноречие', 'крайность', 'красавец', 'красавица', 'красиво', 'красивый', 'краска', 'краснеть', 'красный', 'крайне', 'красота', 'краткий', 'кратко', 'крафт', 'крепкий', 'крепко', 'крепостной', 'крепость', 'кресло']\n",
            "Topic 44: ['насилие', 'закон', 'народ', 'правительство', 'общество', 'власть', 'христианский', 'помогать', 'огромный', 'учение', 'убийство', 'человечество', 'признавать', 'войско', 'несчастный', 'учитель', 'государство', 'нравственный', 'истинный', 'полковник', 'главное', 'василий', 'выражать', 'ездить', 'мнение']\n",
            "Topic 45: ['зинаида', 'мировой', 'зять', 'колпак', 'заступаться', 'затягивать', 'мсье', 'скамейка', 'изверг', 'согласие', 'кофе', 'пес', 'завертывать', 'подъезжать', 'возвышение', 'призвание', 'откинуть', 'запускать', 'повисать', 'крафт', 'красный', 'красноречие', 'краснеть', 'красота', 'краткий']\n",
            "Topic 46: ['пугачев', 'урбенин', 'наташа', 'нелли', 'оренбург', 'алеша', 'яицкий', 'михельсон', 'пугачева', 'мятежник', 'самозванец', 'ваня', 'оренбургский', 'бунтовщик', 'маслобоев', 'андреевна', 'атаман', 'мамаша', 'казань', 'шайка', 'допрос', 'императрица', 'слобода', 'свидетель', 'дабы']\n",
            "Topic 47: ['вася', 'аркадий', 'гесперий', 'гесперия', 'сильвия', 'юний', 'флавиан', 'чепчик', 'прима', 'который', 'кофей', 'кофта', 'кошелек', 'кошка', 'край', 'крайне', 'крайний', 'крайность', 'красавец', 'красавица', 'красиво', 'красивый', 'краска', 'краснеть', 'красноречие']\n",
            "Topic 48: ['катя', 'младенец', 'пастух', 'краска', 'край', 'крайне', 'крайний', 'крайность', 'красавец', 'красавица', 'красиво', 'красивый', 'ящик', 'кошка', 'красноречие', 'красный', 'красота', 'краткий', 'кратко', 'крафт', 'крепкий', 'крепко', 'крепостной', 'краснеть', 'кошелек']\n",
            "Topic 49: ['ящик', 'краснеть', 'край', 'крайне', 'крайний', 'крайность', 'красавец', 'красавица', 'красиво', 'красивый', 'краска', 'красноречие', 'крест', 'красный', 'красота', 'краткий', 'кратко', 'крафт', 'крепкий', 'крепко', 'крепостной', 'крепость', 'кошка', 'кошелек', 'кофта']\n",
            "Topic 50: ['аня', 'модест', 'сиятельство', 'андрюша', 'петя', 'орден', 'красивый', 'крайне', 'крайний', 'крайность', 'красавец', 'красавица', 'красиво', 'краснеть', 'краска', 'кошка', 'красноречие', 'красный', 'красота', 'краткий', 'кратко', 'крафт', 'крепкий', 'крепко', 'край']\n",
            "Topic 51: ['кузнец', 'чуб', 'хата', 'запорожец', 'солоха', 'парубок', 'дьяк', 'кум', 'крайне', 'крайний', 'краска', 'крайность', 'край', 'красавец', 'красавица', 'красиво', 'красивый', 'ящик', 'кошелек', 'краснеть', 'красноречие', 'красный', 'красота', 'краткий', 'кратко']\n",
            "Topic 52: ['это', 'весь', 'свой', 'который', 'человек', 'сказать', 'говорить', 'мочь', 'знать', 'рука', 'становиться', 'глаз', 'жизнь', 'лицо', 'самый', 'наш', 'дело', 'хотеть', 'видеть', 'голова', 'время', 'идти', 'думать', 'очень', 'ваш']\n",
            "Topic 53: ['почта', 'метель', 'опаздывать', 'писарь', 'генеральша', 'утихать', 'хитрость', 'кошка', 'край', 'крайне', 'крайний', 'крайность', 'красавец', 'красавица', 'красиво', 'красивый', 'ящик', 'кофта', 'краска', 'краснеть', 'красноречие', 'красный', 'красота', 'краткий', 'кратко']\n",
            "Topic 54: ['бульба', 'запорожец', 'атаман', 'казацкий', 'панов', 'ящик', 'краснеть', 'крайне', 'крайний', 'крайность', 'красавец', 'красавица', 'красиво', 'красивый', 'краска', 'красный', 'красноречие', 'кошка', 'красота', 'краткий', 'кратко', 'крафт', 'крепкий', 'крепко', 'крепостной']\n",
            "Topic 55: ['единение', 'грушницкий', 'основа', 'печорин', 'соединение', 'соединять', 'шайка', 'патриотизм', 'преимущество', 'ключ', 'состояться', 'всемирный', 'вывод', 'ломаться', 'неизбежный', 'откинуть', 'кошка', 'красота', 'крафт', 'кратко', 'край', 'крайне', 'краткий', 'крайний', 'крайность']\n",
            "Topic 56: ['ромася', 'кукушкин', 'ящик', 'краснеть', 'край', 'крайне', 'крайний', 'крайность', 'красавец', 'красавица', 'красиво', 'красивый', 'краска', 'красный', 'красноречие', 'кошелек', 'красота', 'краткий', 'кратко', 'крафт', 'крепкий', 'крепко', 'крепостной', 'крепость', 'кошка']\n",
            "Topic 57: ['вера', 'петрович', 'великий', 'сад', 'москва', 'сегодня', 'выпивать', 'антон', 'шея', 'чехов', 'приходиться', 'дядя', 'чиновник', 'сестра', 'медленно', 'серый', 'водка', 'рад', 'нечего', 'братец', 'степан', 'карта', 'малый', 'вероятно', 'игра']\n",
            "Topic 58: ['левин', 'вронский', 'кити', 'аркадьич', 'долли', 'дарья', 'облонский', 'свияжский', 'весловский', 'бетси', 'щербацкий', 'каренин', 'кошка', 'край', 'крайне', 'крайний', 'крайность', 'красавец', 'красавица', 'красиво', 'кошелек', 'красивый', 'краска', 'краснеть', 'красноречие']\n",
            "Topic 59: ['ящик', 'краснеть', 'край', 'крайне', 'крайний', 'крайность', 'красавец', 'красавица', 'красиво', 'красивый', 'краска', 'красноречие', 'крест', 'красный', 'красота', 'краткий', 'кратко', 'крафт', 'крепкий', 'крепко', 'крепостной', 'крепость', 'кошка', 'кошелек', 'кофта']\n",
            "Topic 60: ['церковь', 'фамилия', 'васильич', 'легенда', 'роза', 'верование', 'определение', 'генеральша', 'башня', 'истинно', 'соль', 'православный', 'косить', 'тамошний', 'лощина', 'неразумный', 'спеть', 'немка', 'бесконечно', 'влетать', 'постучаться', 'познание', 'мужичок', 'утихать', 'прошедший']\n",
            "Topic 61: ['фома', 'лопахин', 'андреевна', 'варя', 'аня', 'фомич', 'гаев', 'трофимов', 'яша', 'дуняша', 'фалалей', 'бахчеев', 'татьяна', 'генеральша', 'настенька', 'петя', 'ермолай', 'илюша', 'анфиса', 'крайний', 'красавец', 'красавица', 'крайность', 'красноречие', 'красиво']\n",
            "Topic 62: ['петр', 'семен', 'поезд', 'врать', 'совесть', 'рыба', 'несчастие', 'следователь', 'знание', 'насчет', 'ловить', 'штука', 'занятие', 'изменяться', 'калоша', 'решение', 'директор', 'секретарь', 'платить', 'небесный', 'мигать', 'судья', 'должность', 'тощий', 'образованный']\n",
            "Topic 63: ['герасим', 'зина', 'александровна', 'гаврила', 'мозгляков', 'татьяна', 'дворецкий', 'каморка', 'соль', 'организация', 'ерошка', 'настасья', 'накормить', 'край', 'крайне', 'крайний', 'крайность', 'красавец', 'кратко', 'красавица', 'красиво', 'краткий', 'кошка', 'краска', 'краснеть']\n",
            "Topic 64: ['николаич', 'михайлыч', 'апрель', 'донос', 'ассигнация', 'голубушка', 'напугать', 'родительский', 'пакет', 'ящик', 'краска', 'крайность', 'красавец', 'красавица', 'красиво', 'красивый', 'красноречие', 'краснеть', 'крайне', 'красный', 'красота', 'краткий', 'кратко', 'крафт', 'крепкий']\n",
            "Topic 65: ['альберт', 'актриса', 'козак', 'славянин', 'управляющий', 'писарь', 'драма', 'красивый', 'край', 'крайне', 'крайний', 'крайность', 'красавец', 'красавица', 'красиво', 'краснеть', 'краска', 'красноречие', 'красный', 'красота', 'краткий', 'кратко', 'крафт', 'крепкий', 'крепко']\n",
            "Topic 66: ['любовь', 'новый', 'садиться', 'муж', 'анна', 'глядеть', 'утро', 'часто', 'превосходительство', 'володя', 'должно', 'снег', 'обед', 'вернуться', 'пол', 'ожидать', 'сильно', 'церковь', 'десять', 'спина', 'уезжать', 'платье', 'рано', 'ворота', 'вместо']\n",
            "Topic 67: ['ребро', 'медик', 'ламберт', 'версил', 'татьяна', 'версилов', 'васин', 'андреевна', 'крафт', 'стебельков', 'документ', 'нитка', 'бьоринг', 'представление', 'макарович', 'одолжение', 'досадовать', 'силиться', 'сгибать', 'прибирать', 'превосходно', 'накинуть', 'жаться', 'боковой', 'выпрямляться']\n",
            "Topic 68: ['нина', 'пекарский', 'гесперия', 'гесперий', 'матрена', 'сеанс', 'ремигий', 'юлиания', 'рея', 'юний', 'симм', 'грациан', 'намия', 'варя', 'симмах', 'алый', 'каратаев', 'амбросий', 'береза', 'истинно', 'спиритизм', 'развязка', 'данные', 'мелькнуть', 'красноречие']\n",
            "Topic 69: ['михайловна', 'александра', 'ящик', 'крестить', 'крайний', 'крайность', 'красавец', 'красавица', 'красиво', 'красивый', 'краска', 'краснеть', 'красноречие', 'красный', 'красота', 'краткий', 'кратко', 'крафт', 'крепкий', 'крепко', 'крепостной', 'крепость', 'кресло', 'крайне', 'край']\n",
            "Topic 70: ['хлестаков', 'городничий', 'ротмистр', 'кувалда', 'чертопханов', 'андреевна', 'добчинский', 'ермолай', 'антоновна', 'артемий', 'еремеич', 'филиппович', 'почтмейстер', 'федорович', 'пристав', 'федя', 'антонович', 'клиент', 'тихон', 'андрюша', 'костя', 'прима', 'крайний', 'крайне', 'крайность']\n",
            "Topic 71: ['наташа', 'астафий', 'ирина', 'изда', 'стр', 'денисов', 'чебутыкин', 'вершинин', 'тузенбах', 'долохов', 'хи', 'игнатьевна', 'емельян', 'авдотья', 'ферапонт', 'аграфена', 'платон', 'шпага', 'васильевич', 'анфиса', 'курагин', 'жюли', 'гл', 'откликаться', 'сперанский']\n",
            "Topic 72: ['ибрагим', 'семеныч', 'акулина', 'мари', 'графиня', 'татьяна', 'сгибать', 'либеральный', 'влево', 'герцог', 'меньшой', 'царский', 'вправо', 'затрещать', 'косой', 'короче', 'корпус', 'красиво', 'красивый', 'краска', 'краснеть', 'красноречие', 'красный', 'красота', 'красавец']\n",
            "Topic 73: ['башня', 'реальный', 'верующий', 'суета', 'прочный', 'ясность', 'александра', 'восставать', 'грабеж', 'переход', 'вражда', 'горесть', 'гнездо', 'ярость', 'красиво', 'краска', 'красавец', 'красивый', 'крайность', 'красавица', 'красноречие', 'краснеть', 'красный', 'красота', 'краткий']\n",
            "Topic 74: ['сергий', 'астафий', 'контора', 'гитара', 'набережная', 'хорошенько', 'прасковья', 'михайловна', 'допрашивать', 'медицинский', 'растолковывать', 'крошечный', 'оправляться', 'обещаться', 'побывать', 'наследство', 'ранний', 'пение', 'кружева', 'зять', 'краснеть', 'красноречие', 'коротенький', 'краска', 'крайний']\n",
            "Topic 75: ['конвойный', 'допрашивать', 'свидетель', 'ящик', 'красиво', 'кошка', 'край', 'крайне', 'крайний', 'крайность', 'красавец', 'красавица', 'красивый', 'кофта', 'краска', 'краснеть', 'красноречие', 'красный', 'красота', 'краткий', 'кратко', 'крафт', 'крепкий', 'кошелек', 'кофе']\n",
            "Topic 76: ['выживать', 'старенький', 'одолжение', 'укусить', 'ограничиваться', 'поневоле', 'целковый', 'отделываться', 'размышление', 'происхождение', 'доброта', 'посматривать', 'намек', 'предстоять', 'юность', 'посещение', 'трепетать', 'краска', 'крайний', 'крайность', 'красавец', 'красавица', 'красиво', 'король', 'красивый']\n",
            "Topic 77: ['пьер', 'коновалов', 'агафья', 'ростов', 'кутузов', 'суеверие', 'экономический', 'борис', 'болконский', 'анатоль', 'посредством', 'основа', 'багратион', 'выгодный', 'действие', 'элен', 'социалист', 'главнокомандующий', 'распоряжение', 'михайловна', 'грабеж', 'бонапарт', 'соловей', 'продолжительный', 'безухов']\n",
            "Topic 78: ['гагин', 'ася', 'татьяна', 'ящик', 'краска', 'кошка', 'край', 'крайне', 'крайний', 'крайность', 'красавец', 'красавица', 'красиво', 'красивый', 'краснеть', 'красноречие', 'красный', 'красота', 'краткий', 'кратко', 'крафт', 'крепкий', 'крепко', 'крепостной', 'кошелек']\n",
            "Topic 79: ['оленька', 'опушка', 'наслаждаться', 'юний', 'роза', 'соседка', 'впредь', 'папенька', 'любезность', 'февраль', 'доброта', 'светить', 'умственный', 'умиление', 'духовный', 'насекомое', 'апрель', 'склад', 'богиня', 'пустота', 'ранний', 'басня', 'соперник', 'воробей', 'завидовать']\n",
            "Topic 80: ['ящик', 'краснеть', 'край', 'крайне', 'крайний', 'крайность', 'красавец', 'красавица', 'красиво', 'красивый', 'краска', 'красноречие', 'крест', 'красный', 'красота', 'краткий', 'кратко', 'крафт', 'крепкий', 'крепко', 'крепостной', 'крепость', 'кошка', 'кошелек', 'кофта']\n",
            "Topic 81: ['антонио', 'мария', 'воробей', 'утихать', 'засовывать', 'поля', 'ящик', 'красноречие', 'крайность', 'красавец', 'красавица', 'красиво', 'красивый', 'краска', 'краснеть', 'красный', 'крайне', 'красота', 'краткий', 'кратко', 'крафт', 'крепкий', 'крепко', 'крепостной', 'крепость']\n",
            "Topic 82: ['прекрасный', 'рот', 'мера', 'решать', 'ужас', 'станция', 'правый', 'мужчина', 'затем', 'прочитывать', 'цветок', 'студент', 'боль', 'картина', 'звезда', 'молчание', 'приятель', 'бормотать', 'порядок', 'оказываться', 'переходить', 'дьявол', 'маша', 'женский', 'потерять']\n",
            "Topic 83: ['городовой', 'генеральский', 'склад', 'надзиратель', 'шельма', 'сорвать', 'собачонка', 'велено', 'укусить', 'центр', 'мировой', 'ситцевый', 'повар', 'высовываться', 'крайний', 'крайне', 'ящик', 'крайность', 'кошка', 'красавец', 'красавица', 'красиво', 'красивый', 'краска', 'краснеть']\n",
            "Topic 84: ['ящик', 'краснеть', 'край', 'крайне', 'крайний', 'крайность', 'красавец', 'красавица', 'красиво', 'красивый', 'краска', 'красноречие', 'крест', 'красный', 'красота', 'краткий', 'кратко', 'крафт', 'крепкий', 'крепко', 'крепостной', 'крепость', 'кошка', 'кошелек', 'кофта']\n",
            "Topic 85: ['ящик', 'краснеть', 'край', 'крайне', 'крайний', 'крайность', 'красавец', 'красавица', 'красиво', 'красивый', 'краска', 'красноречие', 'крест', 'красный', 'красота', 'краткий', 'кратко', 'крафт', 'крепкий', 'крепко', 'крепостной', 'крепость', 'кошка', 'кошелек', 'кофта']\n",
            "Topic 86: ['аглая', 'настасья', 'филипповна', 'лебедев', 'рогожин', 'ганя', 'прокофиевна', 'лизавета', 'епанчин', 'ипполит', 'ардалионович', 'бурдовский', 'птицын', 'келлер', 'фердыщенко', 'павлищев', 'аделаида', 'тоцкий', 'варя', 'павловск', 'генеральша', 'костюм', 'краска', 'крайность', 'красавец']\n",
            "Topic 87: ['дубровский', 'кирила', 'таня', 'аграфена', 'словом', 'устаивать', 'будить', 'выборы', 'дверца', 'ящик', 'крайне', 'крайний', 'крайность', 'красавец', 'красавица', 'красиво', 'краска', 'красивый', 'кошка', 'краснеть', 'красноречие', 'красный', 'красота', 'краткий', 'кратко']\n",
            "Topic 88: ['ведьма', 'мишка', 'федоровна', 'лаевский', 'арина', 'помолчать', 'самойленко', 'савельич', 'вполголоса', 'швабрин', 'егоровна', 'палуба', 'лук', 'зависть', 'ивановна', 'корить', 'пес', 'тревожно', 'сухо', 'дар', 'дружно', 'комендант', 'баня', 'кратко', 'сшивать']\n",
            "Topic 89: ['телега', 'коляска', 'соня', 'выезжать', 'кнут', 'дура', 'класть', 'оглядывать', 'спальня', 'лениво', 'аптека', 'гриша', 'больная', 'гнать', 'проехать', 'худо', 'соединять', 'шевелить', 'задрожать', 'заезжать', 'заря', 'жандарм', 'английский', 'взвизгивать', 'догнать']\n",
            "Topic 90: ['ящик', 'краснеть', 'край', 'крайне', 'крайний', 'крайность', 'красавец', 'красавица', 'красиво', 'красивый', 'краска', 'красноречие', 'крест', 'красный', 'красота', 'краткий', 'кратко', 'крафт', 'крепкий', 'крепко', 'крепостной', 'крепость', 'кошка', 'кошелек', 'кофта']\n",
            "Topic 91: ['осип', 'вытаскивать', 'лед', 'серебряный', 'маточка', 'полоса', 'торопливо', 'палатка', 'привязывать', 'пустыня', 'утопать', 'герасим', 'храбрый', 'мгла', 'орать', 'жевать', 'бой', 'ветка', 'внушать', 'молчаливый', 'мутный', 'смущать', 'тянуть', 'обливать', 'сострадание']\n",
            "Topic 92: ['круциферский', 'бельт', 'бельтов', 'львовна', 'абрамович', 'глафира', 'восемьдесят', 'петрушка', 'яша', 'выборы', 'агафья', 'крайний', 'красавец', 'красавица', 'красиво', 'красивый', 'краска', 'краснеть', 'красноречие', 'красный', 'красота', 'краткий', 'кратко', 'крафт', 'крепкий']\n",
            "Topic 93: ['федоровна', 'ильин', 'кавалерист', 'улан', 'ассигнация', 'крафт', 'красиво', 'кошелек', 'кошка', 'край', 'крайне', 'крайний', 'крайность', 'красавец', 'красавица', 'красивый', 'кратко', 'краска', 'кофта', 'крепко', 'красноречие', 'красный', 'крепкий', 'красота', 'краткий']\n",
            "Topic 94: ['жилин', 'сильвия', 'рея', 'мария', 'ящик', 'краска', 'крайне', 'крайний', 'крайность', 'красавец', 'красавица', 'красиво', 'красивый', 'краснеть', 'кошка', 'красноречие', 'красный', 'красота', 'краткий', 'кратко', 'крафт', 'крепкий', 'крепко', 'крепостной', 'край']\n",
            "Topic 95: ['аул', 'шамиль', 'подъезжать', 'конный', 'роса', 'кудрявый', 'кофей', 'кошелек', 'кошка', 'край', 'крайне', 'крайний', 'крайность', 'красавец', 'красавица', 'красиво', 'красивый', 'кузьма', 'краска', 'краснеть', 'красноречие', 'красный', 'красота', 'краткий', 'кратко']\n",
            "Topic 96: ['ящик', 'краснеть', 'край', 'крайне', 'крайний', 'крайность', 'красавец', 'красавица', 'красиво', 'красивый', 'краска', 'красноречие', 'крест', 'красный', 'красота', 'краткий', 'кратко', 'крафт', 'крепкий', 'крепко', 'крепостной', 'крепость', 'кошка', 'кошелек', 'кофта']\n",
            "Topic 97: ['вывод', 'истязание', 'деготь', 'насекомое', 'засучивать', 'изображение', 'откинуть', 'русый', 'круглый', 'краска', 'крайний', 'крайность', 'красавец', 'красавица', 'красиво', 'красивый', 'ящик', 'краснеть', 'красноречие', 'крайне', 'красота', 'краткий', 'кратко', 'крафт', 'крепкий']\n",
            "Topic 98: ['лук', 'салфетка', 'приготовляться', 'суп', 'дешево', 'судорога', 'изумляться', 'смелость', 'наткнуться', 'опаздывать', 'заказывать', 'масса', 'масло', 'красный', 'край', 'крайне', 'крайний', 'крайность', 'красавец', 'красавица', 'красиво', 'красота', 'крепкий', 'крафт', 'кратко']\n",
            "Topic 99: ['хохол', 'презрение', 'воз', 'священник', 'федорович', 'митя', 'пара', 'тяжесть', 'единый', 'алеша', 'покупатель', 'креститься', 'столб', 'воскресать', 'отличаться', 'ярмарка', 'зелень', 'крутой', 'деготь', 'остров', 'похороны', 'плод', 'бойкий', 'привычный', 'жилет']\n"
          ]
        }
      ]
    },
    {
      "cell_type": "markdown",
      "source": [
        "## Задача 3: ансамблевое обучение"
      ],
      "metadata": {
        "id": "vYTWjbsZPqyh"
      }
    },
    {
      "cell_type": "markdown",
      "source": [
        "**Датасет:** данные о качестве воды BKB_WaterQualityData_2020084.csv.\n",
        "\n",
        "**Основное задание:**\n"
      ],
      "metadata": {
        "id": "ilxHDU5Wo4DF"
      }
    },
    {
      "cell_type": "markdown",
      "source": [
        "1.   **Выполните предобработку датасета.** Ваша зависимая переменная - Site_Id. Ваши независимые переменные: Salinity (ppt), Dissolved Oxygen (mg/L), pH (standard units), Secchi Depth (m), Water Depth (m), Water Temp (?C), AirTemp (C). Подумайте, надо ли что-то кодировать и/или разделять выборку на тренировочное и тестовое множество."
      ],
      "metadata": {
        "id": "zNllSxeBCvNg"
      }
    },
    {
      "cell_type": "code",
      "source": [
        "df1 = pd.read_csv('BKB_WaterQualityData_2020084.csv')\n",
        "\n",
        "df1"
      ],
      "metadata": {
        "colab": {
          "base_uri": "https://localhost:8080/",
          "height": 478
        },
        "id": "jXAKwVn1CtKq",
        "outputId": "8f99e018-e777-4c0e-9851-8bbac351a4bf"
      },
      "execution_count": null,
      "outputs": [
        {
          "output_type": "execute_result",
          "data": {
            "text/plain": [
              "     Site_Id Unit_Id   Read_Date  Salinity (ppt)  Dissolved Oxygen (mg/L)  \\\n",
              "0        Bay     NaN    1/3/1994             1.3                     11.7   \n",
              "1        Bay     NaN   1/31/1994             1.5                     12.0   \n",
              "2        Bay     NaN    2/7/1994             1.0                     10.5   \n",
              "3        Bay     NaN   2/23/1994             1.0                     10.1   \n",
              "4        Bay     NaN   2/28/1994             1.0                     12.6   \n",
              "...      ...     ...         ...             ...                      ...   \n",
              "2366     Bay     NaN  10/11/2018             1.9                      5.0   \n",
              "2367     Bay     NaN  10/24/2018             0.0                      9.0   \n",
              "2368     Bay     NaN  10/28/2018             0.9                      2.9   \n",
              "2369     Bay     NaN   11/7/2018             1.7                      NaN   \n",
              "2370     Bay     NaN  12/11/2018             0.1                      NaN   \n",
              "\n",
              "      pH (standard units)  Secchi Depth (m)  Water Depth (m)  Water Temp (?C)  \\\n",
              "0                     7.3              0.40             0.40              5.9   \n",
              "1                     7.4              0.20             0.35              3.0   \n",
              "2                     7.2              0.25             0.60              5.9   \n",
              "3                     7.4              0.35             0.50             10.0   \n",
              "4                     7.2              0.20             0.40              1.6   \n",
              "...                   ...               ...              ...              ...   \n",
              "2366                  7.0              4.00             1.20             25.0   \n",
              "2367                  7.0              0.30             0.60             18.0   \n",
              "2368                  7.0              0.40             0.90             13.0   \n",
              "2369                  7.0              0.45             0.90             20.0   \n",
              "2370                  7.0              0.10             0.10             10.0   \n",
              "\n",
              "      Air Temp-Celsius  Air Temp (?F) Time (24:00) Field_Tech DateVerified  \\\n",
              "0                  8.0          46.40        11:00        NaN          NaN   \n",
              "1                  2.6          36.68        11:30        NaN          NaN   \n",
              "2                  7.6          45.68         9:45        NaN          NaN   \n",
              "3                  2.7          36.86          NaN        NaN          NaN   \n",
              "4                  0.0          32.00        10:30        NaN          NaN   \n",
              "...                ...            ...          ...        ...          ...   \n",
              "2366               NaN          78.00        09:30    Sue Poe   11/13/2019   \n",
              "2367               NaN          58.00        09:30    Sue Poe   11/13/2019   \n",
              "2368               NaN          49.00        09:20    Sue Poe   11/13/2019   \n",
              "2369               NaN          65.00        09:45    Sue Poe   11/13/2019   \n",
              "2370               NaN          42.00        09:40    Sue Poe   11/13/2019   \n",
              "\n",
              "          WhoVerified  AirTemp (C)  Year  \n",
              "0                 NaN     8.000000  1994  \n",
              "1                 NaN     2.600000  1994  \n",
              "2                 NaN     7.600000  1994  \n",
              "3                 NaN     2.700000  1994  \n",
              "4                 NaN     0.000000  1994  \n",
              "...               ...          ...   ...  \n",
              "2366  Christine Folks    25.555556  2018  \n",
              "2367  Christine Folks    14.444444  2018  \n",
              "2368  Christine Folks     9.444444  2018  \n",
              "2369  Christine Folks    18.333333  2018  \n",
              "2370  Christine Folks     5.555556  2018  \n",
              "\n",
              "[2371 rows x 17 columns]"
            ],
            "text/html": [
              "\n",
              "  <div id=\"df-3a47aeff-aa11-4af1-aa54-1965b3719ec1\" class=\"colab-df-container\">\n",
              "    <div>\n",
              "<style scoped>\n",
              "    .dataframe tbody tr th:only-of-type {\n",
              "        vertical-align: middle;\n",
              "    }\n",
              "\n",
              "    .dataframe tbody tr th {\n",
              "        vertical-align: top;\n",
              "    }\n",
              "\n",
              "    .dataframe thead th {\n",
              "        text-align: right;\n",
              "    }\n",
              "</style>\n",
              "<table border=\"1\" class=\"dataframe\">\n",
              "  <thead>\n",
              "    <tr style=\"text-align: right;\">\n",
              "      <th></th>\n",
              "      <th>Site_Id</th>\n",
              "      <th>Unit_Id</th>\n",
              "      <th>Read_Date</th>\n",
              "      <th>Salinity (ppt)</th>\n",
              "      <th>Dissolved Oxygen (mg/L)</th>\n",
              "      <th>pH (standard units)</th>\n",
              "      <th>Secchi Depth (m)</th>\n",
              "      <th>Water Depth (m)</th>\n",
              "      <th>Water Temp (?C)</th>\n",
              "      <th>Air Temp-Celsius</th>\n",
              "      <th>Air Temp (?F)</th>\n",
              "      <th>Time (24:00)</th>\n",
              "      <th>Field_Tech</th>\n",
              "      <th>DateVerified</th>\n",
              "      <th>WhoVerified</th>\n",
              "      <th>AirTemp (C)</th>\n",
              "      <th>Year</th>\n",
              "    </tr>\n",
              "  </thead>\n",
              "  <tbody>\n",
              "    <tr>\n",
              "      <th>0</th>\n",
              "      <td>Bay</td>\n",
              "      <td>NaN</td>\n",
              "      <td>1/3/1994</td>\n",
              "      <td>1.3</td>\n",
              "      <td>11.7</td>\n",
              "      <td>7.3</td>\n",
              "      <td>0.40</td>\n",
              "      <td>0.40</td>\n",
              "      <td>5.9</td>\n",
              "      <td>8.0</td>\n",
              "      <td>46.40</td>\n",
              "      <td>11:00</td>\n",
              "      <td>NaN</td>\n",
              "      <td>NaN</td>\n",
              "      <td>NaN</td>\n",
              "      <td>8.000000</td>\n",
              "      <td>1994</td>\n",
              "    </tr>\n",
              "    <tr>\n",
              "      <th>1</th>\n",
              "      <td>Bay</td>\n",
              "      <td>NaN</td>\n",
              "      <td>1/31/1994</td>\n",
              "      <td>1.5</td>\n",
              "      <td>12.0</td>\n",
              "      <td>7.4</td>\n",
              "      <td>0.20</td>\n",
              "      <td>0.35</td>\n",
              "      <td>3.0</td>\n",
              "      <td>2.6</td>\n",
              "      <td>36.68</td>\n",
              "      <td>11:30</td>\n",
              "      <td>NaN</td>\n",
              "      <td>NaN</td>\n",
              "      <td>NaN</td>\n",
              "      <td>2.600000</td>\n",
              "      <td>1994</td>\n",
              "    </tr>\n",
              "    <tr>\n",
              "      <th>2</th>\n",
              "      <td>Bay</td>\n",
              "      <td>NaN</td>\n",
              "      <td>2/7/1994</td>\n",
              "      <td>1.0</td>\n",
              "      <td>10.5</td>\n",
              "      <td>7.2</td>\n",
              "      <td>0.25</td>\n",
              "      <td>0.60</td>\n",
              "      <td>5.9</td>\n",
              "      <td>7.6</td>\n",
              "      <td>45.68</td>\n",
              "      <td>9:45</td>\n",
              "      <td>NaN</td>\n",
              "      <td>NaN</td>\n",
              "      <td>NaN</td>\n",
              "      <td>7.600000</td>\n",
              "      <td>1994</td>\n",
              "    </tr>\n",
              "    <tr>\n",
              "      <th>3</th>\n",
              "      <td>Bay</td>\n",
              "      <td>NaN</td>\n",
              "      <td>2/23/1994</td>\n",
              "      <td>1.0</td>\n",
              "      <td>10.1</td>\n",
              "      <td>7.4</td>\n",
              "      <td>0.35</td>\n",
              "      <td>0.50</td>\n",
              "      <td>10.0</td>\n",
              "      <td>2.7</td>\n",
              "      <td>36.86</td>\n",
              "      <td>NaN</td>\n",
              "      <td>NaN</td>\n",
              "      <td>NaN</td>\n",
              "      <td>NaN</td>\n",
              "      <td>2.700000</td>\n",
              "      <td>1994</td>\n",
              "    </tr>\n",
              "    <tr>\n",
              "      <th>4</th>\n",
              "      <td>Bay</td>\n",
              "      <td>NaN</td>\n",
              "      <td>2/28/1994</td>\n",
              "      <td>1.0</td>\n",
              "      <td>12.6</td>\n",
              "      <td>7.2</td>\n",
              "      <td>0.20</td>\n",
              "      <td>0.40</td>\n",
              "      <td>1.6</td>\n",
              "      <td>0.0</td>\n",
              "      <td>32.00</td>\n",
              "      <td>10:30</td>\n",
              "      <td>NaN</td>\n",
              "      <td>NaN</td>\n",
              "      <td>NaN</td>\n",
              "      <td>0.000000</td>\n",
              "      <td>1994</td>\n",
              "    </tr>\n",
              "    <tr>\n",
              "      <th>...</th>\n",
              "      <td>...</td>\n",
              "      <td>...</td>\n",
              "      <td>...</td>\n",
              "      <td>...</td>\n",
              "      <td>...</td>\n",
              "      <td>...</td>\n",
              "      <td>...</td>\n",
              "      <td>...</td>\n",
              "      <td>...</td>\n",
              "      <td>...</td>\n",
              "      <td>...</td>\n",
              "      <td>...</td>\n",
              "      <td>...</td>\n",
              "      <td>...</td>\n",
              "      <td>...</td>\n",
              "      <td>...</td>\n",
              "      <td>...</td>\n",
              "    </tr>\n",
              "    <tr>\n",
              "      <th>2366</th>\n",
              "      <td>Bay</td>\n",
              "      <td>NaN</td>\n",
              "      <td>10/11/2018</td>\n",
              "      <td>1.9</td>\n",
              "      <td>5.0</td>\n",
              "      <td>7.0</td>\n",
              "      <td>4.00</td>\n",
              "      <td>1.20</td>\n",
              "      <td>25.0</td>\n",
              "      <td>NaN</td>\n",
              "      <td>78.00</td>\n",
              "      <td>09:30</td>\n",
              "      <td>Sue Poe</td>\n",
              "      <td>11/13/2019</td>\n",
              "      <td>Christine Folks</td>\n",
              "      <td>25.555556</td>\n",
              "      <td>2018</td>\n",
              "    </tr>\n",
              "    <tr>\n",
              "      <th>2367</th>\n",
              "      <td>Bay</td>\n",
              "      <td>NaN</td>\n",
              "      <td>10/24/2018</td>\n",
              "      <td>0.0</td>\n",
              "      <td>9.0</td>\n",
              "      <td>7.0</td>\n",
              "      <td>0.30</td>\n",
              "      <td>0.60</td>\n",
              "      <td>18.0</td>\n",
              "      <td>NaN</td>\n",
              "      <td>58.00</td>\n",
              "      <td>09:30</td>\n",
              "      <td>Sue Poe</td>\n",
              "      <td>11/13/2019</td>\n",
              "      <td>Christine Folks</td>\n",
              "      <td>14.444444</td>\n",
              "      <td>2018</td>\n",
              "    </tr>\n",
              "    <tr>\n",
              "      <th>2368</th>\n",
              "      <td>Bay</td>\n",
              "      <td>NaN</td>\n",
              "      <td>10/28/2018</td>\n",
              "      <td>0.9</td>\n",
              "      <td>2.9</td>\n",
              "      <td>7.0</td>\n",
              "      <td>0.40</td>\n",
              "      <td>0.90</td>\n",
              "      <td>13.0</td>\n",
              "      <td>NaN</td>\n",
              "      <td>49.00</td>\n",
              "      <td>09:20</td>\n",
              "      <td>Sue Poe</td>\n",
              "      <td>11/13/2019</td>\n",
              "      <td>Christine Folks</td>\n",
              "      <td>9.444444</td>\n",
              "      <td>2018</td>\n",
              "    </tr>\n",
              "    <tr>\n",
              "      <th>2369</th>\n",
              "      <td>Bay</td>\n",
              "      <td>NaN</td>\n",
              "      <td>11/7/2018</td>\n",
              "      <td>1.7</td>\n",
              "      <td>NaN</td>\n",
              "      <td>7.0</td>\n",
              "      <td>0.45</td>\n",
              "      <td>0.90</td>\n",
              "      <td>20.0</td>\n",
              "      <td>NaN</td>\n",
              "      <td>65.00</td>\n",
              "      <td>09:45</td>\n",
              "      <td>Sue Poe</td>\n",
              "      <td>11/13/2019</td>\n",
              "      <td>Christine Folks</td>\n",
              "      <td>18.333333</td>\n",
              "      <td>2018</td>\n",
              "    </tr>\n",
              "    <tr>\n",
              "      <th>2370</th>\n",
              "      <td>Bay</td>\n",
              "      <td>NaN</td>\n",
              "      <td>12/11/2018</td>\n",
              "      <td>0.1</td>\n",
              "      <td>NaN</td>\n",
              "      <td>7.0</td>\n",
              "      <td>0.10</td>\n",
              "      <td>0.10</td>\n",
              "      <td>10.0</td>\n",
              "      <td>NaN</td>\n",
              "      <td>42.00</td>\n",
              "      <td>09:40</td>\n",
              "      <td>Sue Poe</td>\n",
              "      <td>11/13/2019</td>\n",
              "      <td>Christine Folks</td>\n",
              "      <td>5.555556</td>\n",
              "      <td>2018</td>\n",
              "    </tr>\n",
              "  </tbody>\n",
              "</table>\n",
              "<p>2371 rows × 17 columns</p>\n",
              "</div>\n",
              "    <div class=\"colab-df-buttons\">\n",
              "\n",
              "  <div class=\"colab-df-container\">\n",
              "    <button class=\"colab-df-convert\" onclick=\"convertToInteractive('df-3a47aeff-aa11-4af1-aa54-1965b3719ec1')\"\n",
              "            title=\"Convert this dataframe to an interactive table.\"\n",
              "            style=\"display:none;\">\n",
              "\n",
              "  <svg xmlns=\"http://www.w3.org/2000/svg\" height=\"24px\" viewBox=\"0 -960 960 960\">\n",
              "    <path d=\"M120-120v-720h720v720H120Zm60-500h600v-160H180v160Zm220 220h160v-160H400v160Zm0 220h160v-160H400v160ZM180-400h160v-160H180v160Zm440 0h160v-160H620v160ZM180-180h160v-160H180v160Zm440 0h160v-160H620v160Z\"/>\n",
              "  </svg>\n",
              "    </button>\n",
              "\n",
              "  <style>\n",
              "    .colab-df-container {\n",
              "      display:flex;\n",
              "      gap: 12px;\n",
              "    }\n",
              "\n",
              "    .colab-df-convert {\n",
              "      background-color: #E8F0FE;\n",
              "      border: none;\n",
              "      border-radius: 50%;\n",
              "      cursor: pointer;\n",
              "      display: none;\n",
              "      fill: #1967D2;\n",
              "      height: 32px;\n",
              "      padding: 0 0 0 0;\n",
              "      width: 32px;\n",
              "    }\n",
              "\n",
              "    .colab-df-convert:hover {\n",
              "      background-color: #E2EBFA;\n",
              "      box-shadow: 0px 1px 2px rgba(60, 64, 67, 0.3), 0px 1px 3px 1px rgba(60, 64, 67, 0.15);\n",
              "      fill: #174EA6;\n",
              "    }\n",
              "\n",
              "    .colab-df-buttons div {\n",
              "      margin-bottom: 4px;\n",
              "    }\n",
              "\n",
              "    [theme=dark] .colab-df-convert {\n",
              "      background-color: #3B4455;\n",
              "      fill: #D2E3FC;\n",
              "    }\n",
              "\n",
              "    [theme=dark] .colab-df-convert:hover {\n",
              "      background-color: #434B5C;\n",
              "      box-shadow: 0px 1px 3px 1px rgba(0, 0, 0, 0.15);\n",
              "      filter: drop-shadow(0px 1px 2px rgba(0, 0, 0, 0.3));\n",
              "      fill: #FFFFFF;\n",
              "    }\n",
              "  </style>\n",
              "\n",
              "    <script>\n",
              "      const buttonEl =\n",
              "        document.querySelector('#df-3a47aeff-aa11-4af1-aa54-1965b3719ec1 button.colab-df-convert');\n",
              "      buttonEl.style.display =\n",
              "        google.colab.kernel.accessAllowed ? 'block' : 'none';\n",
              "\n",
              "      async function convertToInteractive(key) {\n",
              "        const element = document.querySelector('#df-3a47aeff-aa11-4af1-aa54-1965b3719ec1');\n",
              "        const dataTable =\n",
              "          await google.colab.kernel.invokeFunction('convertToInteractive',\n",
              "                                                    [key], {});\n",
              "        if (!dataTable) return;\n",
              "\n",
              "        const docLinkHtml = 'Like what you see? Visit the ' +\n",
              "          '<a target=\"_blank\" href=https://colab.research.google.com/notebooks/data_table.ipynb>data table notebook</a>'\n",
              "          + ' to learn more about interactive tables.';\n",
              "        element.innerHTML = '';\n",
              "        dataTable['output_type'] = 'display_data';\n",
              "        await google.colab.output.renderOutput(dataTable, element);\n",
              "        const docLink = document.createElement('div');\n",
              "        docLink.innerHTML = docLinkHtml;\n",
              "        element.appendChild(docLink);\n",
              "      }\n",
              "    </script>\n",
              "  </div>\n",
              "\n",
              "\n",
              "<div id=\"df-525a27b0-7735-4c31-b7a1-d31e63211171\">\n",
              "  <button class=\"colab-df-quickchart\" onclick=\"quickchart('df-525a27b0-7735-4c31-b7a1-d31e63211171')\"\n",
              "            title=\"Suggest charts\"\n",
              "            style=\"display:none;\">\n",
              "\n",
              "<svg xmlns=\"http://www.w3.org/2000/svg\" height=\"24px\"viewBox=\"0 0 24 24\"\n",
              "     width=\"24px\">\n",
              "    <g>\n",
              "        <path d=\"M19 3H5c-1.1 0-2 .9-2 2v14c0 1.1.9 2 2 2h14c1.1 0 2-.9 2-2V5c0-1.1-.9-2-2-2zM9 17H7v-7h2v7zm4 0h-2V7h2v10zm4 0h-2v-4h2v4z\"/>\n",
              "    </g>\n",
              "</svg>\n",
              "  </button>\n",
              "\n",
              "<style>\n",
              "  .colab-df-quickchart {\n",
              "      --bg-color: #E8F0FE;\n",
              "      --fill-color: #1967D2;\n",
              "      --hover-bg-color: #E2EBFA;\n",
              "      --hover-fill-color: #174EA6;\n",
              "      --disabled-fill-color: #AAA;\n",
              "      --disabled-bg-color: #DDD;\n",
              "  }\n",
              "\n",
              "  [theme=dark] .colab-df-quickchart {\n",
              "      --bg-color: #3B4455;\n",
              "      --fill-color: #D2E3FC;\n",
              "      --hover-bg-color: #434B5C;\n",
              "      --hover-fill-color: #FFFFFF;\n",
              "      --disabled-bg-color: #3B4455;\n",
              "      --disabled-fill-color: #666;\n",
              "  }\n",
              "\n",
              "  .colab-df-quickchart {\n",
              "    background-color: var(--bg-color);\n",
              "    border: none;\n",
              "    border-radius: 50%;\n",
              "    cursor: pointer;\n",
              "    display: none;\n",
              "    fill: var(--fill-color);\n",
              "    height: 32px;\n",
              "    padding: 0;\n",
              "    width: 32px;\n",
              "  }\n",
              "\n",
              "  .colab-df-quickchart:hover {\n",
              "    background-color: var(--hover-bg-color);\n",
              "    box-shadow: 0 1px 2px rgba(60, 64, 67, 0.3), 0 1px 3px 1px rgba(60, 64, 67, 0.15);\n",
              "    fill: var(--button-hover-fill-color);\n",
              "  }\n",
              "\n",
              "  .colab-df-quickchart-complete:disabled,\n",
              "  .colab-df-quickchart-complete:disabled:hover {\n",
              "    background-color: var(--disabled-bg-color);\n",
              "    fill: var(--disabled-fill-color);\n",
              "    box-shadow: none;\n",
              "  }\n",
              "\n",
              "  .colab-df-spinner {\n",
              "    border: 2px solid var(--fill-color);\n",
              "    border-color: transparent;\n",
              "    border-bottom-color: var(--fill-color);\n",
              "    animation:\n",
              "      spin 1s steps(1) infinite;\n",
              "  }\n",
              "\n",
              "  @keyframes spin {\n",
              "    0% {\n",
              "      border-color: transparent;\n",
              "      border-bottom-color: var(--fill-color);\n",
              "      border-left-color: var(--fill-color);\n",
              "    }\n",
              "    20% {\n",
              "      border-color: transparent;\n",
              "      border-left-color: var(--fill-color);\n",
              "      border-top-color: var(--fill-color);\n",
              "    }\n",
              "    30% {\n",
              "      border-color: transparent;\n",
              "      border-left-color: var(--fill-color);\n",
              "      border-top-color: var(--fill-color);\n",
              "      border-right-color: var(--fill-color);\n",
              "    }\n",
              "    40% {\n",
              "      border-color: transparent;\n",
              "      border-right-color: var(--fill-color);\n",
              "      border-top-color: var(--fill-color);\n",
              "    }\n",
              "    60% {\n",
              "      border-color: transparent;\n",
              "      border-right-color: var(--fill-color);\n",
              "    }\n",
              "    80% {\n",
              "      border-color: transparent;\n",
              "      border-right-color: var(--fill-color);\n",
              "      border-bottom-color: var(--fill-color);\n",
              "    }\n",
              "    90% {\n",
              "      border-color: transparent;\n",
              "      border-bottom-color: var(--fill-color);\n",
              "    }\n",
              "  }\n",
              "</style>\n",
              "\n",
              "  <script>\n",
              "    async function quickchart(key) {\n",
              "      const quickchartButtonEl =\n",
              "        document.querySelector('#' + key + ' button');\n",
              "      quickchartButtonEl.disabled = true;  // To prevent multiple clicks.\n",
              "      quickchartButtonEl.classList.add('colab-df-spinner');\n",
              "      try {\n",
              "        const charts = await google.colab.kernel.invokeFunction(\n",
              "            'suggestCharts', [key], {});\n",
              "      } catch (error) {\n",
              "        console.error('Error during call to suggestCharts:', error);\n",
              "      }\n",
              "      quickchartButtonEl.classList.remove('colab-df-spinner');\n",
              "      quickchartButtonEl.classList.add('colab-df-quickchart-complete');\n",
              "    }\n",
              "    (() => {\n",
              "      let quickchartButtonEl =\n",
              "        document.querySelector('#df-525a27b0-7735-4c31-b7a1-d31e63211171 button');\n",
              "      quickchartButtonEl.style.display =\n",
              "        google.colab.kernel.accessAllowed ? 'block' : 'none';\n",
              "    })();\n",
              "  </script>\n",
              "</div>\n",
              "    </div>\n",
              "  </div>\n"
            ],
            "application/vnd.google.colaboratory.intrinsic+json": {
              "type": "dataframe",
              "variable_name": "df1",
              "summary": "{\n  \"name\": \"df1\",\n  \"rows\": 2371,\n  \"fields\": [\n    {\n      \"column\": \"Site_Id\",\n      \"properties\": {\n        \"dtype\": \"category\",\n        \"num_unique_values\": 6,\n        \"samples\": [\n          \"Bay\",\n          \"A\",\n          \"d\"\n        ],\n        \"semantic_type\": \"\",\n        \"description\": \"\"\n      }\n    },\n    {\n      \"column\": \"Unit_Id\",\n      \"properties\": {\n        \"dtype\": \"category\",\n        \"num_unique_values\": 2,\n        \"samples\": [\n          \"01csv\",\n          \"01CSV\"\n        ],\n        \"semantic_type\": \"\",\n        \"description\": \"\"\n      }\n    },\n    {\n      \"column\": \"Read_Date\",\n      \"properties\": {\n        \"dtype\": \"object\",\n        \"num_unique_values\": 801,\n        \"samples\": [\n          \"10/7/2014\",\n          \"6/25/2013\"\n        ],\n        \"semantic_type\": \"\",\n        \"description\": \"\"\n      }\n    },\n    {\n      \"column\": \"Salinity (ppt)\",\n      \"properties\": {\n        \"dtype\": \"number\",\n        \"std\": 1.2308186950436066,\n        \"min\": 0.0,\n        \"max\": 9.0,\n        \"num_unique_values\": 61,\n        \"samples\": [\n          1.3,\n          2.0\n        ],\n        \"semantic_type\": \"\",\n        \"description\": \"\"\n      }\n    },\n    {\n      \"column\": \"Dissolved Oxygen (mg/L)\",\n      \"properties\": {\n        \"dtype\": \"number\",\n        \"std\": 2.5066075386247606,\n        \"min\": 0.0,\n        \"max\": 15.1,\n        \"num_unique_values\": 154,\n        \"samples\": [\n          9.4,\n          2.6\n        ],\n        \"semantic_type\": \"\",\n        \"description\": \"\"\n      }\n    },\n    {\n      \"column\": \"pH (standard units)\",\n      \"properties\": {\n        \"dtype\": \"number\",\n        \"std\": 0.7884851582635825,\n        \"min\": 0.3,\n        \"max\": 9.9,\n        \"num_unique_values\": 48,\n        \"samples\": [\n          8.2,\n          9.8\n        ],\n        \"semantic_type\": \"\",\n        \"description\": \"\"\n      }\n    },\n    {\n      \"column\": \"Secchi Depth (m)\",\n      \"properties\": {\n        \"dtype\": \"number\",\n        \"std\": 0.47366339267868307,\n        \"min\": 0.0,\n        \"max\": 9.0,\n        \"num_unique_values\": 77,\n        \"samples\": [\n          0.15,\n          0.95\n        ],\n        \"semantic_type\": \"\",\n        \"description\": \"\"\n      }\n    },\n    {\n      \"column\": \"Water Depth (m)\",\n      \"properties\": {\n        \"dtype\": \"number\",\n        \"std\": 0.6211403896690012,\n        \"min\": 0.01,\n        \"max\": 12.0,\n        \"num_unique_values\": 114,\n        \"samples\": [\n          0.23,\n          0.9\n        ],\n        \"semantic_type\": \"\",\n        \"description\": \"\"\n      }\n    },\n    {\n      \"column\": \"Water Temp (?C)\",\n      \"properties\": {\n        \"dtype\": \"number\",\n        \"std\": 8.298246066490835,\n        \"min\": 0.0,\n        \"max\": 74.0,\n        \"num_unique_values\": 114,\n        \"samples\": [\n          0.0,\n          9.7\n        ],\n        \"semantic_type\": \"\",\n        \"description\": \"\"\n      }\n    },\n    {\n      \"column\": \"Air Temp-Celsius\",\n      \"properties\": {\n        \"dtype\": \"number\",\n        \"std\": 11.754137837481787,\n        \"min\": 0.0,\n        \"max\": 74.0,\n        \"num_unique_values\": 45,\n        \"samples\": [\n          7.0,\n          27.0\n        ],\n        \"semantic_type\": \"\",\n        \"description\": \"\"\n      }\n    },\n    {\n      \"column\": \"Air Temp (?F)\",\n      \"properties\": {\n        \"dtype\": \"number\",\n        \"std\": 15.49223637158338,\n        \"min\": 10.5,\n        \"max\": 92.3,\n        \"num_unique_values\": 225,\n        \"samples\": [\n          55.4,\n          37.0\n        ],\n        \"semantic_type\": \"\",\n        \"description\": \"\"\n      }\n    },\n    {\n      \"column\": \"Time (24:00)\",\n      \"properties\": {\n        \"dtype\": \"category\",\n        \"num_unique_values\": 99,\n        \"samples\": [\n          \"10:25\",\n          \"3:21\"\n        ],\n        \"semantic_type\": \"\",\n        \"description\": \"\"\n      }\n    },\n    {\n      \"column\": \"Field_Tech\",\n      \"properties\": {\n        \"dtype\": \"category\",\n        \"num_unique_values\": 14,\n        \"samples\": [\n          \"Sue Poe\",\n          \"Susan Poe\"\n        ],\n        \"semantic_type\": \"\",\n        \"description\": \"\"\n      }\n    },\n    {\n      \"column\": \"DateVerified\",\n      \"properties\": {\n        \"dtype\": \"date\",\n        \"min\": \"2014-03-27 00:00:00\",\n        \"max\": \"2019-11-13 00:00:00\",\n        \"num_unique_values\": 44,\n        \"samples\": [\n          \"10/23/2019\",\n          \"1/15/2016\"\n        ],\n        \"semantic_type\": \"\",\n        \"description\": \"\"\n      }\n    },\n    {\n      \"column\": \"WhoVerified\",\n      \"properties\": {\n        \"dtype\": \"category\",\n        \"num_unique_values\": 12,\n        \"samples\": [\n          \"Carly Sibilia\",\n          \"Erin Bailey\"\n        ],\n        \"semantic_type\": \"\",\n        \"description\": \"\"\n      }\n    },\n    {\n      \"column\": \"AirTemp (C)\",\n      \"properties\": {\n        \"dtype\": \"number\",\n        \"std\": 10.314719945259773,\n        \"min\": -17.77777778,\n        \"max\": 33.5,\n        \"num_unique_values\": 226,\n        \"samples\": [\n          13.0,\n          8.777777778\n        ],\n        \"semantic_type\": \"\",\n        \"description\": \"\"\n      }\n    },\n    {\n      \"column\": \"Year\",\n      \"properties\": {\n        \"dtype\": \"number\",\n        \"std\": 9,\n        \"min\": 1899,\n        \"max\": 2019,\n        \"num_unique_values\": 32,\n        \"samples\": [\n          2017,\n          2004\n        ],\n        \"semantic_type\": \"\",\n        \"description\": \"\"\n      }\n    }\n  ]\n}"
            }
          },
          "metadata": {},
          "execution_count": 2
        }
      ]
    },
    {
      "cell_type": "code",
      "source": [
        "water_ = df1.drop(columns=['Unit_Id', 'Read_Date', 'Time (24:00)', 'Air Temp (?F)', 'Air Temp-Celsius', 'Year', 'Field_Tech', 'DateVerified', 'WhoVerified'])"
      ],
      "metadata": {
        "id": "5XRIbkQoDbx5"
      },
      "execution_count": null,
      "outputs": []
    },
    {
      "cell_type": "code",
      "source": [
        "water_ = water_.dropna()"
      ],
      "metadata": {
        "id": "Q7uQ25znDaaw"
      },
      "execution_count": null,
      "outputs": []
    },
    {
      "cell_type": "code",
      "source": [
        "water_.head()"
      ],
      "metadata": {
        "colab": {
          "base_uri": "https://localhost:8080/",
          "height": 224
        },
        "id": "WBYJKN11Drhq",
        "outputId": "f95559b4-ef42-4170-cf04-54a246beb053"
      },
      "execution_count": null,
      "outputs": [
        {
          "output_type": "execute_result",
          "data": {
            "text/plain": [
              "  Site_Id  Salinity (ppt)  Dissolved Oxygen (mg/L)  pH (standard units)  \\\n",
              "0     Bay             1.3                     11.7                  7.3   \n",
              "1     Bay             1.5                     12.0                  7.4   \n",
              "2     Bay             1.0                     10.5                  7.2   \n",
              "3     Bay             1.0                     10.1                  7.4   \n",
              "4     Bay             1.0                     12.6                  7.2   \n",
              "\n",
              "   Secchi Depth (m)  Water Depth (m)  Water Temp (?C)  AirTemp (C)  \n",
              "0              0.40             0.40              5.9          8.0  \n",
              "1              0.20             0.35              3.0          2.6  \n",
              "2              0.25             0.60              5.9          7.6  \n",
              "3              0.35             0.50             10.0          2.7  \n",
              "4              0.20             0.40              1.6          0.0  "
            ],
            "text/html": [
              "\n",
              "  <div id=\"df-a57d0a4e-356d-4d07-9441-a576c76389b5\" class=\"colab-df-container\">\n",
              "    <div>\n",
              "<style scoped>\n",
              "    .dataframe tbody tr th:only-of-type {\n",
              "        vertical-align: middle;\n",
              "    }\n",
              "\n",
              "    .dataframe tbody tr th {\n",
              "        vertical-align: top;\n",
              "    }\n",
              "\n",
              "    .dataframe thead th {\n",
              "        text-align: right;\n",
              "    }\n",
              "</style>\n",
              "<table border=\"1\" class=\"dataframe\">\n",
              "  <thead>\n",
              "    <tr style=\"text-align: right;\">\n",
              "      <th></th>\n",
              "      <th>Site_Id</th>\n",
              "      <th>Salinity (ppt)</th>\n",
              "      <th>Dissolved Oxygen (mg/L)</th>\n",
              "      <th>pH (standard units)</th>\n",
              "      <th>Secchi Depth (m)</th>\n",
              "      <th>Water Depth (m)</th>\n",
              "      <th>Water Temp (?C)</th>\n",
              "      <th>AirTemp (C)</th>\n",
              "    </tr>\n",
              "  </thead>\n",
              "  <tbody>\n",
              "    <tr>\n",
              "      <th>0</th>\n",
              "      <td>Bay</td>\n",
              "      <td>1.3</td>\n",
              "      <td>11.7</td>\n",
              "      <td>7.3</td>\n",
              "      <td>0.40</td>\n",
              "      <td>0.40</td>\n",
              "      <td>5.9</td>\n",
              "      <td>8.0</td>\n",
              "    </tr>\n",
              "    <tr>\n",
              "      <th>1</th>\n",
              "      <td>Bay</td>\n",
              "      <td>1.5</td>\n",
              "      <td>12.0</td>\n",
              "      <td>7.4</td>\n",
              "      <td>0.20</td>\n",
              "      <td>0.35</td>\n",
              "      <td>3.0</td>\n",
              "      <td>2.6</td>\n",
              "    </tr>\n",
              "    <tr>\n",
              "      <th>2</th>\n",
              "      <td>Bay</td>\n",
              "      <td>1.0</td>\n",
              "      <td>10.5</td>\n",
              "      <td>7.2</td>\n",
              "      <td>0.25</td>\n",
              "      <td>0.60</td>\n",
              "      <td>5.9</td>\n",
              "      <td>7.6</td>\n",
              "    </tr>\n",
              "    <tr>\n",
              "      <th>3</th>\n",
              "      <td>Bay</td>\n",
              "      <td>1.0</td>\n",
              "      <td>10.1</td>\n",
              "      <td>7.4</td>\n",
              "      <td>0.35</td>\n",
              "      <td>0.50</td>\n",
              "      <td>10.0</td>\n",
              "      <td>2.7</td>\n",
              "    </tr>\n",
              "    <tr>\n",
              "      <th>4</th>\n",
              "      <td>Bay</td>\n",
              "      <td>1.0</td>\n",
              "      <td>12.6</td>\n",
              "      <td>7.2</td>\n",
              "      <td>0.20</td>\n",
              "      <td>0.40</td>\n",
              "      <td>1.6</td>\n",
              "      <td>0.0</td>\n",
              "    </tr>\n",
              "  </tbody>\n",
              "</table>\n",
              "</div>\n",
              "    <div class=\"colab-df-buttons\">\n",
              "\n",
              "  <div class=\"colab-df-container\">\n",
              "    <button class=\"colab-df-convert\" onclick=\"convertToInteractive('df-a57d0a4e-356d-4d07-9441-a576c76389b5')\"\n",
              "            title=\"Convert this dataframe to an interactive table.\"\n",
              "            style=\"display:none;\">\n",
              "\n",
              "  <svg xmlns=\"http://www.w3.org/2000/svg\" height=\"24px\" viewBox=\"0 -960 960 960\">\n",
              "    <path d=\"M120-120v-720h720v720H120Zm60-500h600v-160H180v160Zm220 220h160v-160H400v160Zm0 220h160v-160H400v160ZM180-400h160v-160H180v160Zm440 0h160v-160H620v160ZM180-180h160v-160H180v160Zm440 0h160v-160H620v160Z\"/>\n",
              "  </svg>\n",
              "    </button>\n",
              "\n",
              "  <style>\n",
              "    .colab-df-container {\n",
              "      display:flex;\n",
              "      gap: 12px;\n",
              "    }\n",
              "\n",
              "    .colab-df-convert {\n",
              "      background-color: #E8F0FE;\n",
              "      border: none;\n",
              "      border-radius: 50%;\n",
              "      cursor: pointer;\n",
              "      display: none;\n",
              "      fill: #1967D2;\n",
              "      height: 32px;\n",
              "      padding: 0 0 0 0;\n",
              "      width: 32px;\n",
              "    }\n",
              "\n",
              "    .colab-df-convert:hover {\n",
              "      background-color: #E2EBFA;\n",
              "      box-shadow: 0px 1px 2px rgba(60, 64, 67, 0.3), 0px 1px 3px 1px rgba(60, 64, 67, 0.15);\n",
              "      fill: #174EA6;\n",
              "    }\n",
              "\n",
              "    .colab-df-buttons div {\n",
              "      margin-bottom: 4px;\n",
              "    }\n",
              "\n",
              "    [theme=dark] .colab-df-convert {\n",
              "      background-color: #3B4455;\n",
              "      fill: #D2E3FC;\n",
              "    }\n",
              "\n",
              "    [theme=dark] .colab-df-convert:hover {\n",
              "      background-color: #434B5C;\n",
              "      box-shadow: 0px 1px 3px 1px rgba(0, 0, 0, 0.15);\n",
              "      filter: drop-shadow(0px 1px 2px rgba(0, 0, 0, 0.3));\n",
              "      fill: #FFFFFF;\n",
              "    }\n",
              "  </style>\n",
              "\n",
              "    <script>\n",
              "      const buttonEl =\n",
              "        document.querySelector('#df-a57d0a4e-356d-4d07-9441-a576c76389b5 button.colab-df-convert');\n",
              "      buttonEl.style.display =\n",
              "        google.colab.kernel.accessAllowed ? 'block' : 'none';\n",
              "\n",
              "      async function convertToInteractive(key) {\n",
              "        const element = document.querySelector('#df-a57d0a4e-356d-4d07-9441-a576c76389b5');\n",
              "        const dataTable =\n",
              "          await google.colab.kernel.invokeFunction('convertToInteractive',\n",
              "                                                    [key], {});\n",
              "        if (!dataTable) return;\n",
              "\n",
              "        const docLinkHtml = 'Like what you see? Visit the ' +\n",
              "          '<a target=\"_blank\" href=https://colab.research.google.com/notebooks/data_table.ipynb>data table notebook</a>'\n",
              "          + ' to learn more about interactive tables.';\n",
              "        element.innerHTML = '';\n",
              "        dataTable['output_type'] = 'display_data';\n",
              "        await google.colab.output.renderOutput(dataTable, element);\n",
              "        const docLink = document.createElement('div');\n",
              "        docLink.innerHTML = docLinkHtml;\n",
              "        element.appendChild(docLink);\n",
              "      }\n",
              "    </script>\n",
              "  </div>\n",
              "\n",
              "\n",
              "<div id=\"df-d662e9be-1fd9-48d3-9bb1-9bdc7023889d\">\n",
              "  <button class=\"colab-df-quickchart\" onclick=\"quickchart('df-d662e9be-1fd9-48d3-9bb1-9bdc7023889d')\"\n",
              "            title=\"Suggest charts\"\n",
              "            style=\"display:none;\">\n",
              "\n",
              "<svg xmlns=\"http://www.w3.org/2000/svg\" height=\"24px\"viewBox=\"0 0 24 24\"\n",
              "     width=\"24px\">\n",
              "    <g>\n",
              "        <path d=\"M19 3H5c-1.1 0-2 .9-2 2v14c0 1.1.9 2 2 2h14c1.1 0 2-.9 2-2V5c0-1.1-.9-2-2-2zM9 17H7v-7h2v7zm4 0h-2V7h2v10zm4 0h-2v-4h2v4z\"/>\n",
              "    </g>\n",
              "</svg>\n",
              "  </button>\n",
              "\n",
              "<style>\n",
              "  .colab-df-quickchart {\n",
              "      --bg-color: #E8F0FE;\n",
              "      --fill-color: #1967D2;\n",
              "      --hover-bg-color: #E2EBFA;\n",
              "      --hover-fill-color: #174EA6;\n",
              "      --disabled-fill-color: #AAA;\n",
              "      --disabled-bg-color: #DDD;\n",
              "  }\n",
              "\n",
              "  [theme=dark] .colab-df-quickchart {\n",
              "      --bg-color: #3B4455;\n",
              "      --fill-color: #D2E3FC;\n",
              "      --hover-bg-color: #434B5C;\n",
              "      --hover-fill-color: #FFFFFF;\n",
              "      --disabled-bg-color: #3B4455;\n",
              "      --disabled-fill-color: #666;\n",
              "  }\n",
              "\n",
              "  .colab-df-quickchart {\n",
              "    background-color: var(--bg-color);\n",
              "    border: none;\n",
              "    border-radius: 50%;\n",
              "    cursor: pointer;\n",
              "    display: none;\n",
              "    fill: var(--fill-color);\n",
              "    height: 32px;\n",
              "    padding: 0;\n",
              "    width: 32px;\n",
              "  }\n",
              "\n",
              "  .colab-df-quickchart:hover {\n",
              "    background-color: var(--hover-bg-color);\n",
              "    box-shadow: 0 1px 2px rgba(60, 64, 67, 0.3), 0 1px 3px 1px rgba(60, 64, 67, 0.15);\n",
              "    fill: var(--button-hover-fill-color);\n",
              "  }\n",
              "\n",
              "  .colab-df-quickchart-complete:disabled,\n",
              "  .colab-df-quickchart-complete:disabled:hover {\n",
              "    background-color: var(--disabled-bg-color);\n",
              "    fill: var(--disabled-fill-color);\n",
              "    box-shadow: none;\n",
              "  }\n",
              "\n",
              "  .colab-df-spinner {\n",
              "    border: 2px solid var(--fill-color);\n",
              "    border-color: transparent;\n",
              "    border-bottom-color: var(--fill-color);\n",
              "    animation:\n",
              "      spin 1s steps(1) infinite;\n",
              "  }\n",
              "\n",
              "  @keyframes spin {\n",
              "    0% {\n",
              "      border-color: transparent;\n",
              "      border-bottom-color: var(--fill-color);\n",
              "      border-left-color: var(--fill-color);\n",
              "    }\n",
              "    20% {\n",
              "      border-color: transparent;\n",
              "      border-left-color: var(--fill-color);\n",
              "      border-top-color: var(--fill-color);\n",
              "    }\n",
              "    30% {\n",
              "      border-color: transparent;\n",
              "      border-left-color: var(--fill-color);\n",
              "      border-top-color: var(--fill-color);\n",
              "      border-right-color: var(--fill-color);\n",
              "    }\n",
              "    40% {\n",
              "      border-color: transparent;\n",
              "      border-right-color: var(--fill-color);\n",
              "      border-top-color: var(--fill-color);\n",
              "    }\n",
              "    60% {\n",
              "      border-color: transparent;\n",
              "      border-right-color: var(--fill-color);\n",
              "    }\n",
              "    80% {\n",
              "      border-color: transparent;\n",
              "      border-right-color: var(--fill-color);\n",
              "      border-bottom-color: var(--fill-color);\n",
              "    }\n",
              "    90% {\n",
              "      border-color: transparent;\n",
              "      border-bottom-color: var(--fill-color);\n",
              "    }\n",
              "  }\n",
              "</style>\n",
              "\n",
              "  <script>\n",
              "    async function quickchart(key) {\n",
              "      const quickchartButtonEl =\n",
              "        document.querySelector('#' + key + ' button');\n",
              "      quickchartButtonEl.disabled = true;  // To prevent multiple clicks.\n",
              "      quickchartButtonEl.classList.add('colab-df-spinner');\n",
              "      try {\n",
              "        const charts = await google.colab.kernel.invokeFunction(\n",
              "            'suggestCharts', [key], {});\n",
              "      } catch (error) {\n",
              "        console.error('Error during call to suggestCharts:', error);\n",
              "      }\n",
              "      quickchartButtonEl.classList.remove('colab-df-spinner');\n",
              "      quickchartButtonEl.classList.add('colab-df-quickchart-complete');\n",
              "    }\n",
              "    (() => {\n",
              "      let quickchartButtonEl =\n",
              "        document.querySelector('#df-d662e9be-1fd9-48d3-9bb1-9bdc7023889d button');\n",
              "      quickchartButtonEl.style.display =\n",
              "        google.colab.kernel.accessAllowed ? 'block' : 'none';\n",
              "    })();\n",
              "  </script>\n",
              "</div>\n",
              "    </div>\n",
              "  </div>\n"
            ],
            "application/vnd.google.colaboratory.intrinsic+json": {
              "type": "dataframe",
              "variable_name": "water_",
              "summary": "{\n  \"name\": \"water_\",\n  \"rows\": 1320,\n  \"fields\": [\n    {\n      \"column\": \"Site_Id\",\n      \"properties\": {\n        \"dtype\": \"category\",\n        \"num_unique_values\": 5,\n        \"samples\": [\n          \"A\",\n          \"D\",\n          \"B\"\n        ],\n        \"semantic_type\": \"\",\n        \"description\": \"\"\n      }\n    },\n    {\n      \"column\": \"Salinity (ppt)\",\n      \"properties\": {\n        \"dtype\": \"number\",\n        \"std\": 1.3736795960260983,\n        \"min\": 0.0,\n        \"max\": 9.0,\n        \"num_unique_values\": 60,\n        \"samples\": [\n          1.3,\n          2.0,\n          5.0\n        ],\n        \"semantic_type\": \"\",\n        \"description\": \"\"\n      }\n    },\n    {\n      \"column\": \"Dissolved Oxygen (mg/L)\",\n      \"properties\": {\n        \"dtype\": \"number\",\n        \"std\": 2.520411171907273,\n        \"min\": 0.0,\n        \"max\": 15.1,\n        \"num_unique_values\": 150,\n        \"samples\": [\n          4.65,\n          11.0,\n          4.2\n        ],\n        \"semantic_type\": \"\",\n        \"description\": \"\"\n      }\n    },\n    {\n      \"column\": \"pH (standard units)\",\n      \"properties\": {\n        \"dtype\": \"number\",\n        \"std\": 0.8076544894257206,\n        \"min\": 0.3,\n        \"max\": 9.9,\n        \"num_unique_values\": 47,\n        \"samples\": [\n          8.7,\n          0.3,\n          8.2\n        ],\n        \"semantic_type\": \"\",\n        \"description\": \"\"\n      }\n    },\n    {\n      \"column\": \"Secchi Depth (m)\",\n      \"properties\": {\n        \"dtype\": \"number\",\n        \"std\": 0.47797725006176567,\n        \"min\": 0.0,\n        \"max\": 7.4,\n        \"num_unique_values\": 69,\n        \"samples\": [\n          0.75,\n          0.4,\n          1.0\n        ],\n        \"semantic_type\": \"\",\n        \"description\": \"\"\n      }\n    },\n    {\n      \"column\": \"Water Depth (m)\",\n      \"properties\": {\n        \"dtype\": \"number\",\n        \"std\": 0.5763359626369285,\n        \"min\": 0.01,\n        \"max\": 7.5,\n        \"num_unique_values\": 98,\n        \"samples\": [\n          0.67,\n          0.375,\n          1.8\n        ],\n        \"semantic_type\": \"\",\n        \"description\": \"\"\n      }\n    },\n    {\n      \"column\": \"Water Temp (?C)\",\n      \"properties\": {\n        \"dtype\": \"number\",\n        \"std\": 8.302713771538665,\n        \"min\": 0.0,\n        \"max\": 74.0,\n        \"num_unique_values\": 106,\n        \"samples\": [\n          54.0,\n          19.3,\n          9.7\n        ],\n        \"semantic_type\": \"\",\n        \"description\": \"\"\n      }\n    },\n    {\n      \"column\": \"AirTemp (C)\",\n      \"properties\": {\n        \"dtype\": \"number\",\n        \"std\": 10.376484796768024,\n        \"min\": -17.77777778,\n        \"max\": 33.5,\n        \"num_unique_values\": 207,\n        \"samples\": [\n          27.22222222,\n          25.7,\n          22.5\n        ],\n        \"semantic_type\": \"\",\n        \"description\": \"\"\n      }\n    }\n  ]\n}"
            }
          },
          "metadata": {},
          "execution_count": 7
        }
      ]
    },
    {
      "cell_type": "code",
      "source": [
        "X_water = water_[[i for i in water_.columns if i != 'Site_Id']]\n",
        "y_water = water_['Site_Id'].tolist()"
      ],
      "metadata": {
        "id": "r7TJUsdxD5bJ"
      },
      "execution_count": null,
      "outputs": []
    },
    {
      "cell_type": "code",
      "source": [
        "X_water_train, X_water_test, y_water_train, y_water_test = train_test_split(X_water, y_water, test_size=0.2, stratify=y_water)"
      ],
      "metadata": {
        "id": "V4EduJOpEKSg"
      },
      "execution_count": null,
      "outputs": []
    },
    {
      "cell_type": "code",
      "source": [
        "le = LabelEncoder()\n",
        "le.fit(y_water_train)"
      ],
      "metadata": {
        "colab": {
          "base_uri": "https://localhost:8080/",
          "height": 75
        },
        "id": "n_kSKhdHEYnY",
        "outputId": "fa008774-aae5-41db-f08c-491231407564"
      },
      "execution_count": null,
      "outputs": [
        {
          "output_type": "execute_result",
          "data": {
            "text/plain": [
              "LabelEncoder()"
            ],
            "text/html": [
              "<style>#sk-container-id-1 {color: black;background-color: white;}#sk-container-id-1 pre{padding: 0;}#sk-container-id-1 div.sk-toggleable {background-color: white;}#sk-container-id-1 label.sk-toggleable__label {cursor: pointer;display: block;width: 100%;margin-bottom: 0;padding: 0.3em;box-sizing: border-box;text-align: center;}#sk-container-id-1 label.sk-toggleable__label-arrow:before {content: \"▸\";float: left;margin-right: 0.25em;color: #696969;}#sk-container-id-1 label.sk-toggleable__label-arrow:hover:before {color: black;}#sk-container-id-1 div.sk-estimator:hover label.sk-toggleable__label-arrow:before {color: black;}#sk-container-id-1 div.sk-toggleable__content {max-height: 0;max-width: 0;overflow: hidden;text-align: left;background-color: #f0f8ff;}#sk-container-id-1 div.sk-toggleable__content pre {margin: 0.2em;color: black;border-radius: 0.25em;background-color: #f0f8ff;}#sk-container-id-1 input.sk-toggleable__control:checked~div.sk-toggleable__content {max-height: 200px;max-width: 100%;overflow: auto;}#sk-container-id-1 input.sk-toggleable__control:checked~label.sk-toggleable__label-arrow:before {content: \"▾\";}#sk-container-id-1 div.sk-estimator input.sk-toggleable__control:checked~label.sk-toggleable__label {background-color: #d4ebff;}#sk-container-id-1 div.sk-label input.sk-toggleable__control:checked~label.sk-toggleable__label {background-color: #d4ebff;}#sk-container-id-1 input.sk-hidden--visually {border: 0;clip: rect(1px 1px 1px 1px);clip: rect(1px, 1px, 1px, 1px);height: 1px;margin: -1px;overflow: hidden;padding: 0;position: absolute;width: 1px;}#sk-container-id-1 div.sk-estimator {font-family: monospace;background-color: #f0f8ff;border: 1px dotted black;border-radius: 0.25em;box-sizing: border-box;margin-bottom: 0.5em;}#sk-container-id-1 div.sk-estimator:hover {background-color: #d4ebff;}#sk-container-id-1 div.sk-parallel-item::after {content: \"\";width: 100%;border-bottom: 1px solid gray;flex-grow: 1;}#sk-container-id-1 div.sk-label:hover label.sk-toggleable__label {background-color: #d4ebff;}#sk-container-id-1 div.sk-serial::before {content: \"\";position: absolute;border-left: 1px solid gray;box-sizing: border-box;top: 0;bottom: 0;left: 50%;z-index: 0;}#sk-container-id-1 div.sk-serial {display: flex;flex-direction: column;align-items: center;background-color: white;padding-right: 0.2em;padding-left: 0.2em;position: relative;}#sk-container-id-1 div.sk-item {position: relative;z-index: 1;}#sk-container-id-1 div.sk-parallel {display: flex;align-items: stretch;justify-content: center;background-color: white;position: relative;}#sk-container-id-1 div.sk-item::before, #sk-container-id-1 div.sk-parallel-item::before {content: \"\";position: absolute;border-left: 1px solid gray;box-sizing: border-box;top: 0;bottom: 0;left: 50%;z-index: -1;}#sk-container-id-1 div.sk-parallel-item {display: flex;flex-direction: column;z-index: 1;position: relative;background-color: white;}#sk-container-id-1 div.sk-parallel-item:first-child::after {align-self: flex-end;width: 50%;}#sk-container-id-1 div.sk-parallel-item:last-child::after {align-self: flex-start;width: 50%;}#sk-container-id-1 div.sk-parallel-item:only-child::after {width: 0;}#sk-container-id-1 div.sk-dashed-wrapped {border: 1px dashed gray;margin: 0 0.4em 0.5em 0.4em;box-sizing: border-box;padding-bottom: 0.4em;background-color: white;}#sk-container-id-1 div.sk-label label {font-family: monospace;font-weight: bold;display: inline-block;line-height: 1.2em;}#sk-container-id-1 div.sk-label-container {text-align: center;}#sk-container-id-1 div.sk-container {/* jupyter's `normalize.less` sets `[hidden] { display: none; }` but bootstrap.min.css set `[hidden] { display: none !important; }` so we also need the `!important` here to be able to override the default hidden behavior on the sphinx rendered scikit-learn.org. See: https://github.com/scikit-learn/scikit-learn/issues/21755 */display: inline-block !important;position: relative;}#sk-container-id-1 div.sk-text-repr-fallback {display: none;}</style><div id=\"sk-container-id-1\" class=\"sk-top-container\"><div class=\"sk-text-repr-fallback\"><pre>LabelEncoder()</pre><b>In a Jupyter environment, please rerun this cell to show the HTML representation or trust the notebook. <br />On GitHub, the HTML representation is unable to render, please try loading this page with nbviewer.org.</b></div><div class=\"sk-container\" hidden><div class=\"sk-item\"><div class=\"sk-estimator sk-toggleable\"><input class=\"sk-toggleable__control sk-hidden--visually\" id=\"sk-estimator-id-1\" type=\"checkbox\" checked><label for=\"sk-estimator-id-1\" class=\"sk-toggleable__label sk-toggleable__label-arrow\">LabelEncoder</label><div class=\"sk-toggleable__content\"><pre>LabelEncoder()</pre></div></div></div></div></div>"
            ]
          },
          "metadata": {},
          "execution_count": 12
        }
      ]
    },
    {
      "cell_type": "code",
      "source": [
        "y_water_train_enc = le.transform(y_water_train)\n",
        "y_water_test_enc = le.transform(y_water_test)"
      ],
      "metadata": {
        "id": "fZuBKq3iFBO5"
      },
      "execution_count": null,
      "outputs": []
    },
    {
      "cell_type": "markdown",
      "source": [
        "**2.   Используйте модели ансамблевого обучения (как минимум, рандомный лес и градиентный бустинг), чтобы по данным о качестве воды предсказать место, откуда был взят образец. Оцените качество предсказаний.**"
      ],
      "metadata": {
        "id": "uzWg_3iWFMUQ"
      }
    },
    {
      "cell_type": "code",
      "source": [
        "clf = RandomForestClassifier()\n",
        "clf.fit(X_water_train, y_water_train_enc)"
      ],
      "metadata": {
        "colab": {
          "base_uri": "https://localhost:8080/",
          "height": 75
        },
        "id": "6rn5fPZCFPEV",
        "outputId": "66788704-9a70-41d6-8f16-412f85f27b2b"
      },
      "execution_count": null,
      "outputs": [
        {
          "output_type": "execute_result",
          "data": {
            "text/plain": [
              "RandomForestClassifier()"
            ],
            "text/html": [
              "<style>#sk-container-id-2 {color: black;background-color: white;}#sk-container-id-2 pre{padding: 0;}#sk-container-id-2 div.sk-toggleable {background-color: white;}#sk-container-id-2 label.sk-toggleable__label {cursor: pointer;display: block;width: 100%;margin-bottom: 0;padding: 0.3em;box-sizing: border-box;text-align: center;}#sk-container-id-2 label.sk-toggleable__label-arrow:before {content: \"▸\";float: left;margin-right: 0.25em;color: #696969;}#sk-container-id-2 label.sk-toggleable__label-arrow:hover:before {color: black;}#sk-container-id-2 div.sk-estimator:hover label.sk-toggleable__label-arrow:before {color: black;}#sk-container-id-2 div.sk-toggleable__content {max-height: 0;max-width: 0;overflow: hidden;text-align: left;background-color: #f0f8ff;}#sk-container-id-2 div.sk-toggleable__content pre {margin: 0.2em;color: black;border-radius: 0.25em;background-color: #f0f8ff;}#sk-container-id-2 input.sk-toggleable__control:checked~div.sk-toggleable__content {max-height: 200px;max-width: 100%;overflow: auto;}#sk-container-id-2 input.sk-toggleable__control:checked~label.sk-toggleable__label-arrow:before {content: \"▾\";}#sk-container-id-2 div.sk-estimator input.sk-toggleable__control:checked~label.sk-toggleable__label {background-color: #d4ebff;}#sk-container-id-2 div.sk-label input.sk-toggleable__control:checked~label.sk-toggleable__label {background-color: #d4ebff;}#sk-container-id-2 input.sk-hidden--visually {border: 0;clip: rect(1px 1px 1px 1px);clip: rect(1px, 1px, 1px, 1px);height: 1px;margin: -1px;overflow: hidden;padding: 0;position: absolute;width: 1px;}#sk-container-id-2 div.sk-estimator {font-family: monospace;background-color: #f0f8ff;border: 1px dotted black;border-radius: 0.25em;box-sizing: border-box;margin-bottom: 0.5em;}#sk-container-id-2 div.sk-estimator:hover {background-color: #d4ebff;}#sk-container-id-2 div.sk-parallel-item::after {content: \"\";width: 100%;border-bottom: 1px solid gray;flex-grow: 1;}#sk-container-id-2 div.sk-label:hover label.sk-toggleable__label {background-color: #d4ebff;}#sk-container-id-2 div.sk-serial::before {content: \"\";position: absolute;border-left: 1px solid gray;box-sizing: border-box;top: 0;bottom: 0;left: 50%;z-index: 0;}#sk-container-id-2 div.sk-serial {display: flex;flex-direction: column;align-items: center;background-color: white;padding-right: 0.2em;padding-left: 0.2em;position: relative;}#sk-container-id-2 div.sk-item {position: relative;z-index: 1;}#sk-container-id-2 div.sk-parallel {display: flex;align-items: stretch;justify-content: center;background-color: white;position: relative;}#sk-container-id-2 div.sk-item::before, #sk-container-id-2 div.sk-parallel-item::before {content: \"\";position: absolute;border-left: 1px solid gray;box-sizing: border-box;top: 0;bottom: 0;left: 50%;z-index: -1;}#sk-container-id-2 div.sk-parallel-item {display: flex;flex-direction: column;z-index: 1;position: relative;background-color: white;}#sk-container-id-2 div.sk-parallel-item:first-child::after {align-self: flex-end;width: 50%;}#sk-container-id-2 div.sk-parallel-item:last-child::after {align-self: flex-start;width: 50%;}#sk-container-id-2 div.sk-parallel-item:only-child::after {width: 0;}#sk-container-id-2 div.sk-dashed-wrapped {border: 1px dashed gray;margin: 0 0.4em 0.5em 0.4em;box-sizing: border-box;padding-bottom: 0.4em;background-color: white;}#sk-container-id-2 div.sk-label label {font-family: monospace;font-weight: bold;display: inline-block;line-height: 1.2em;}#sk-container-id-2 div.sk-label-container {text-align: center;}#sk-container-id-2 div.sk-container {/* jupyter's `normalize.less` sets `[hidden] { display: none; }` but bootstrap.min.css set `[hidden] { display: none !important; }` so we also need the `!important` here to be able to override the default hidden behavior on the sphinx rendered scikit-learn.org. See: https://github.com/scikit-learn/scikit-learn/issues/21755 */display: inline-block !important;position: relative;}#sk-container-id-2 div.sk-text-repr-fallback {display: none;}</style><div id=\"sk-container-id-2\" class=\"sk-top-container\"><div class=\"sk-text-repr-fallback\"><pre>RandomForestClassifier()</pre><b>In a Jupyter environment, please rerun this cell to show the HTML representation or trust the notebook. <br />On GitHub, the HTML representation is unable to render, please try loading this page with nbviewer.org.</b></div><div class=\"sk-container\" hidden><div class=\"sk-item\"><div class=\"sk-estimator sk-toggleable\"><input class=\"sk-toggleable__control sk-hidden--visually\" id=\"sk-estimator-id-2\" type=\"checkbox\" checked><label for=\"sk-estimator-id-2\" class=\"sk-toggleable__label sk-toggleable__label-arrow\">RandomForestClassifier</label><div class=\"sk-toggleable__content\"><pre>RandomForestClassifier()</pre></div></div></div></div></div>"
            ]
          },
          "metadata": {},
          "execution_count": 17
        }
      ]
    },
    {
      "cell_type": "code",
      "source": [
        "water_pred = clf.predict(X_water_test)\n",
        "print(classification_report(y_water_test_enc, water_pred, target_names=le.classes_))"
      ],
      "metadata": {
        "colab": {
          "base_uri": "https://localhost:8080/"
        },
        "id": "LVk5rd9XFPTz",
        "outputId": "b55262ea-d3a3-4099-f462-c2b0b2dffaa4"
      },
      "execution_count": null,
      "outputs": [
        {
          "output_type": "stream",
          "name": "stdout",
          "text": [
            "              precision    recall  f1-score   support\n",
            "\n",
            "           A       0.37      0.22      0.27        32\n",
            "           B       0.53      0.56      0.54        34\n",
            "         Bay       0.79      0.89      0.83       136\n",
            "           C       0.69      0.43      0.53        21\n",
            "           D       0.81      0.83      0.82        41\n",
            "\n",
            "    accuracy                           0.72       264\n",
            "   macro avg       0.64      0.59      0.60       264\n",
            "weighted avg       0.70      0.72      0.70       264\n",
            "\n"
          ]
        }
      ]
    },
    {
      "cell_type": "code",
      "source": [
        "gr = GradientBoostingClassifier(random_state=0)\n",
        "gr.fit(X_water_train, y_water_train_enc)"
      ],
      "metadata": {
        "id": "7tEmUSBbV8Nk",
        "colab": {
          "base_uri": "https://localhost:8080/",
          "height": 75
        },
        "outputId": "68d02a34-3269-41ba-8a33-c73185bc8571"
      },
      "execution_count": null,
      "outputs": [
        {
          "output_type": "execute_result",
          "data": {
            "text/plain": [
              "GradientBoostingClassifier(random_state=0)"
            ],
            "text/html": [
              "<style>#sk-container-id-3 {color: black;background-color: white;}#sk-container-id-3 pre{padding: 0;}#sk-container-id-3 div.sk-toggleable {background-color: white;}#sk-container-id-3 label.sk-toggleable__label {cursor: pointer;display: block;width: 100%;margin-bottom: 0;padding: 0.3em;box-sizing: border-box;text-align: center;}#sk-container-id-3 label.sk-toggleable__label-arrow:before {content: \"▸\";float: left;margin-right: 0.25em;color: #696969;}#sk-container-id-3 label.sk-toggleable__label-arrow:hover:before {color: black;}#sk-container-id-3 div.sk-estimator:hover label.sk-toggleable__label-arrow:before {color: black;}#sk-container-id-3 div.sk-toggleable__content {max-height: 0;max-width: 0;overflow: hidden;text-align: left;background-color: #f0f8ff;}#sk-container-id-3 div.sk-toggleable__content pre {margin: 0.2em;color: black;border-radius: 0.25em;background-color: #f0f8ff;}#sk-container-id-3 input.sk-toggleable__control:checked~div.sk-toggleable__content {max-height: 200px;max-width: 100%;overflow: auto;}#sk-container-id-3 input.sk-toggleable__control:checked~label.sk-toggleable__label-arrow:before {content: \"▾\";}#sk-container-id-3 div.sk-estimator input.sk-toggleable__control:checked~label.sk-toggleable__label {background-color: #d4ebff;}#sk-container-id-3 div.sk-label input.sk-toggleable__control:checked~label.sk-toggleable__label {background-color: #d4ebff;}#sk-container-id-3 input.sk-hidden--visually {border: 0;clip: rect(1px 1px 1px 1px);clip: rect(1px, 1px, 1px, 1px);height: 1px;margin: -1px;overflow: hidden;padding: 0;position: absolute;width: 1px;}#sk-container-id-3 div.sk-estimator {font-family: monospace;background-color: #f0f8ff;border: 1px dotted black;border-radius: 0.25em;box-sizing: border-box;margin-bottom: 0.5em;}#sk-container-id-3 div.sk-estimator:hover {background-color: #d4ebff;}#sk-container-id-3 div.sk-parallel-item::after {content: \"\";width: 100%;border-bottom: 1px solid gray;flex-grow: 1;}#sk-container-id-3 div.sk-label:hover label.sk-toggleable__label {background-color: #d4ebff;}#sk-container-id-3 div.sk-serial::before {content: \"\";position: absolute;border-left: 1px solid gray;box-sizing: border-box;top: 0;bottom: 0;left: 50%;z-index: 0;}#sk-container-id-3 div.sk-serial {display: flex;flex-direction: column;align-items: center;background-color: white;padding-right: 0.2em;padding-left: 0.2em;position: relative;}#sk-container-id-3 div.sk-item {position: relative;z-index: 1;}#sk-container-id-3 div.sk-parallel {display: flex;align-items: stretch;justify-content: center;background-color: white;position: relative;}#sk-container-id-3 div.sk-item::before, #sk-container-id-3 div.sk-parallel-item::before {content: \"\";position: absolute;border-left: 1px solid gray;box-sizing: border-box;top: 0;bottom: 0;left: 50%;z-index: -1;}#sk-container-id-3 div.sk-parallel-item {display: flex;flex-direction: column;z-index: 1;position: relative;background-color: white;}#sk-container-id-3 div.sk-parallel-item:first-child::after {align-self: flex-end;width: 50%;}#sk-container-id-3 div.sk-parallel-item:last-child::after {align-self: flex-start;width: 50%;}#sk-container-id-3 div.sk-parallel-item:only-child::after {width: 0;}#sk-container-id-3 div.sk-dashed-wrapped {border: 1px dashed gray;margin: 0 0.4em 0.5em 0.4em;box-sizing: border-box;padding-bottom: 0.4em;background-color: white;}#sk-container-id-3 div.sk-label label {font-family: monospace;font-weight: bold;display: inline-block;line-height: 1.2em;}#sk-container-id-3 div.sk-label-container {text-align: center;}#sk-container-id-3 div.sk-container {/* jupyter's `normalize.less` sets `[hidden] { display: none; }` but bootstrap.min.css set `[hidden] { display: none !important; }` so we also need the `!important` here to be able to override the default hidden behavior on the sphinx rendered scikit-learn.org. See: https://github.com/scikit-learn/scikit-learn/issues/21755 */display: inline-block !important;position: relative;}#sk-container-id-3 div.sk-text-repr-fallback {display: none;}</style><div id=\"sk-container-id-3\" class=\"sk-top-container\"><div class=\"sk-text-repr-fallback\"><pre>GradientBoostingClassifier(random_state=0)</pre><b>In a Jupyter environment, please rerun this cell to show the HTML representation or trust the notebook. <br />On GitHub, the HTML representation is unable to render, please try loading this page with nbviewer.org.</b></div><div class=\"sk-container\" hidden><div class=\"sk-item\"><div class=\"sk-estimator sk-toggleable\"><input class=\"sk-toggleable__control sk-hidden--visually\" id=\"sk-estimator-id-3\" type=\"checkbox\" checked><label for=\"sk-estimator-id-3\" class=\"sk-toggleable__label sk-toggleable__label-arrow\">GradientBoostingClassifier</label><div class=\"sk-toggleable__content\"><pre>GradientBoostingClassifier(random_state=0)</pre></div></div></div></div></div>"
            ]
          },
          "metadata": {},
          "execution_count": 19
        }
      ]
    },
    {
      "cell_type": "code",
      "source": [
        "gr_pred = gr.predict(X_water_test)\n",
        "print(classification_report(y_water_test_enc, gr_pred, target_names=le.classes_))"
      ],
      "metadata": {
        "colab": {
          "base_uri": "https://localhost:8080/"
        },
        "id": "3XCj1VVpGBiL",
        "outputId": "2bbd7c64-cd8d-4007-f9b3-3e84b4724fb3"
      },
      "execution_count": null,
      "outputs": [
        {
          "output_type": "stream",
          "name": "stdout",
          "text": [
            "              precision    recall  f1-score   support\n",
            "\n",
            "           A       0.57      0.38      0.45        32\n",
            "           B       0.61      0.50      0.55        34\n",
            "         Bay       0.84      0.90      0.87       136\n",
            "           C       0.43      0.57      0.49        21\n",
            "           D       0.83      0.85      0.84        41\n",
            "\n",
            "    accuracy                           0.75       264\n",
            "   macro avg       0.66      0.64      0.64       264\n",
            "weighted avg       0.74      0.75      0.74       264\n",
            "\n"
          ]
        }
      ]
    }
  ]
}