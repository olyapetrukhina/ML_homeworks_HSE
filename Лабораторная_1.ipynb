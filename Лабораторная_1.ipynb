{
  "nbformat": 4,
  "nbformat_minor": 0,
  "metadata": {
    "colab": {
      "provenance": []
    },
    "kernelspec": {
      "name": "python3",
      "display_name": "Python 3"
    },
    "language_info": {
      "name": "python"
    }
  },
  "cells": [
    {
      "cell_type": "markdown",
      "source": [
        "# Лабораторная работа No1"
      ],
      "metadata": {
        "id": "pQ4BUTZ-b7Df"
      }
    },
    {
      "cell_type": "markdown",
      "source": [
        "Данные: датасет leetcode (https://www.kaggle.com/datasets/jaydeepagravat94583/leetcode/data)."
      ],
      "metadata": {
        "id": "LXNHQTnUb0oD"
      }
    },
    {
      "cell_type": "markdown",
      "source": [
        "## Задание 0\n",
        "\n",
        "Предобработайте данные: из нужных колонок удалите ряды с пустыми ячейками, разделите выборку на тренировочное и тестовое множество, векторизуйте тексты, закодируйте (если это требуется) зависимую переменную.\n",
        "\n",
        "(1 балл: 0.5 за предобработку для задачи 1, 0.5 за предобработку для задачи 2)"
      ],
      "metadata": {
        "id": "iOBvc4WSb8sN"
      }
    },
    {
      "cell_type": "markdown",
      "source": [
        "## Задание 1\n",
        "\n",
        "Предскажите сложность (difficulty) по тексту задания (problem_description). Оцените качество предсказаний.\n",
        "\n",
        "(3 балла: 2 за моделирование, 1 за оценку)"
      ],
      "metadata": {
        "id": "vhEdQw9hcDgi"
      }
    },
    {
      "cell_type": "markdown",
      "source": [
        "**Предобработайте данные**\n",
        "\n",
        "1. из нужных колонок удалите ряды с пустыми ячейками"
      ],
      "metadata": {
        "id": "k0180LnJd8qt"
      }
    },
    {
      "cell_type": "code",
      "source": [
        "import pandas as pd\n",
        "import numpy as np\n",
        "\n",
        "from sklearn.model_selection import train_test_split, cross_validate\n",
        "from sklearn.feature_extraction.text import TfidfVectorizer, CountVectorizer\n",
        "from sklearn.preprocessing import MinMaxScaler, LabelEncoder\n",
        "from sklearn.naive_bayes import MultinomialNB\n",
        "from sklearn.metrics import accuracy_score, classification_report, r2_score, mean_absolute_error, mean_squared_error\n",
        "from sklearn.linear_model import LinearRegression, Ridge, Lasso, LogisticRegression\n",
        "from sklearn.metrics import r2_score, mean_squared_error, mean_absolute_error\n",
        "from sklearn.ensemble import RandomForestClassifier\n",
        "from sklearn.model_selection import GridSearchCV"
      ],
      "metadata": {
        "id": "l5C6DmRjcVnT"
      },
      "execution_count": 31,
      "outputs": []
    },
    {
      "cell_type": "code",
      "source": [
        "df = pd.read_csv(\"leetcode.csv\")"
      ],
      "metadata": {
        "id": "pGyJ58yycQVY"
      },
      "execution_count": 33,
      "outputs": []
    },
    {
      "cell_type": "code",
      "source": [
        "data = df.dropna(subset=[\"problem_description\", \"difficulty\", 'acceptance'])"
      ],
      "metadata": {
        "id": "-ZKrdlOQdQv4"
      },
      "execution_count": 34,
      "outputs": []
    },
    {
      "cell_type": "code",
      "source": [
        "data.head(3)"
      ],
      "metadata": {
        "colab": {
          "base_uri": "https://localhost:8080/",
          "height": 302
        },
        "id": "x9A2o38xdtC_",
        "outputId": "d4a49d20-b552-4b2e-9a38-9821a9edd4cc"
      },
      "execution_count": 35,
      "outputs": [
        {
          "output_type": "execute_result",
          "data": {
            "text/plain": [
              "   id  page_number  is_premium  \\\n",
              "0   1            1       False   \n",
              "1   2            1       False   \n",
              "2   3            1       False   \n",
              "\n",
              "                                               title  \\\n",
              "0                                         1. Two Sum   \n",
              "1                                 2. Add Two Numbers   \n",
              "2  3. Longest Substring Without Repeating Characters   \n",
              "\n",
              "                                 problem_description  \\\n",
              "0  Given an array of integers nums and an integer...   \n",
              "1  You are given two non-empty linked lists repre...   \n",
              "2  Given a string s, find the length of the longe...   \n",
              "\n",
              "                                 topic_tags difficulty  \\\n",
              "0                     'Array', 'Hash Table'       Easy   \n",
              "1        'Linked List', 'Math', 'Recursion'     Medium   \n",
              "2  'Hash Table', 'String', 'Sliding Window'     Medium   \n",
              "\n",
              "                                   similar_questions  no_similar_questions  \\\n",
              "0  [\"'3Sum'\", \"'4Sum'\", \"'Two Sum II - Input Arra...                  21.0   \n",
              "1  [\"'Multiply Strings'\", \"'Add Binary'\", \"'Sum o...                   8.0   \n",
              "2  [\"'Longest Substring with At Most Two Distinct...                   9.0   \n",
              "\n",
              "   acceptance    accepted  submission  solution  discussion_count    likes  \\\n",
              "0        51.0  11300000.0  22100000.0   26800.0             638.0  52700.0   \n",
              "1        41.5   4000000.0   9700000.0   15700.0             428.0  28900.0   \n",
              "2        34.1   5100000.0  14900000.0   18100.0             237.0  37700.0   \n",
              "\n",
              "   dislikes                                        problem_URL  \\\n",
              "0    1700.0              https://leetcode.com/problems/two-sum   \n",
              "1    5600.0      https://leetcode.com/problems/add-two-numbers   \n",
              "2    1700.0  https://leetcode.com/problems/longest-substrin...   \n",
              "\n",
              "                                        solution_URL  \n",
              "0     https://leetcode.com/problems/two-sum/solution  \n",
              "1  https://leetcode.com/problems/add-two-numbers/...  \n",
              "2  https://leetcode.com/problems/longest-substrin...  "
            ],
            "text/html": [
              "\n",
              "  <div id=\"df-693d28c8-451c-4178-b68b-6b3c495971ab\" class=\"colab-df-container\">\n",
              "    <div>\n",
              "<style scoped>\n",
              "    .dataframe tbody tr th:only-of-type {\n",
              "        vertical-align: middle;\n",
              "    }\n",
              "\n",
              "    .dataframe tbody tr th {\n",
              "        vertical-align: top;\n",
              "    }\n",
              "\n",
              "    .dataframe thead th {\n",
              "        text-align: right;\n",
              "    }\n",
              "</style>\n",
              "<table border=\"1\" class=\"dataframe\">\n",
              "  <thead>\n",
              "    <tr style=\"text-align: right;\">\n",
              "      <th></th>\n",
              "      <th>id</th>\n",
              "      <th>page_number</th>\n",
              "      <th>is_premium</th>\n",
              "      <th>title</th>\n",
              "      <th>problem_description</th>\n",
              "      <th>topic_tags</th>\n",
              "      <th>difficulty</th>\n",
              "      <th>similar_questions</th>\n",
              "      <th>no_similar_questions</th>\n",
              "      <th>acceptance</th>\n",
              "      <th>accepted</th>\n",
              "      <th>submission</th>\n",
              "      <th>solution</th>\n",
              "      <th>discussion_count</th>\n",
              "      <th>likes</th>\n",
              "      <th>dislikes</th>\n",
              "      <th>problem_URL</th>\n",
              "      <th>solution_URL</th>\n",
              "    </tr>\n",
              "  </thead>\n",
              "  <tbody>\n",
              "    <tr>\n",
              "      <th>0</th>\n",
              "      <td>1</td>\n",
              "      <td>1</td>\n",
              "      <td>False</td>\n",
              "      <td>1. Two Sum</td>\n",
              "      <td>Given an array of integers nums and an integer...</td>\n",
              "      <td>'Array', 'Hash Table'</td>\n",
              "      <td>Easy</td>\n",
              "      <td>[\"'3Sum'\", \"'4Sum'\", \"'Two Sum II - Input Arra...</td>\n",
              "      <td>21.0</td>\n",
              "      <td>51.0</td>\n",
              "      <td>11300000.0</td>\n",
              "      <td>22100000.0</td>\n",
              "      <td>26800.0</td>\n",
              "      <td>638.0</td>\n",
              "      <td>52700.0</td>\n",
              "      <td>1700.0</td>\n",
              "      <td>https://leetcode.com/problems/two-sum</td>\n",
              "      <td>https://leetcode.com/problems/two-sum/solution</td>\n",
              "    </tr>\n",
              "    <tr>\n",
              "      <th>1</th>\n",
              "      <td>2</td>\n",
              "      <td>1</td>\n",
              "      <td>False</td>\n",
              "      <td>2. Add Two Numbers</td>\n",
              "      <td>You are given two non-empty linked lists repre...</td>\n",
              "      <td>'Linked List', 'Math', 'Recursion'</td>\n",
              "      <td>Medium</td>\n",
              "      <td>[\"'Multiply Strings'\", \"'Add Binary'\", \"'Sum o...</td>\n",
              "      <td>8.0</td>\n",
              "      <td>41.5</td>\n",
              "      <td>4000000.0</td>\n",
              "      <td>9700000.0</td>\n",
              "      <td>15700.0</td>\n",
              "      <td>428.0</td>\n",
              "      <td>28900.0</td>\n",
              "      <td>5600.0</td>\n",
              "      <td>https://leetcode.com/problems/add-two-numbers</td>\n",
              "      <td>https://leetcode.com/problems/add-two-numbers/...</td>\n",
              "    </tr>\n",
              "    <tr>\n",
              "      <th>2</th>\n",
              "      <td>3</td>\n",
              "      <td>1</td>\n",
              "      <td>False</td>\n",
              "      <td>3. Longest Substring Without Repeating Characters</td>\n",
              "      <td>Given a string s, find the length of the longe...</td>\n",
              "      <td>'Hash Table', 'String', 'Sliding Window'</td>\n",
              "      <td>Medium</td>\n",
              "      <td>[\"'Longest Substring with At Most Two Distinct...</td>\n",
              "      <td>9.0</td>\n",
              "      <td>34.1</td>\n",
              "      <td>5100000.0</td>\n",
              "      <td>14900000.0</td>\n",
              "      <td>18100.0</td>\n",
              "      <td>237.0</td>\n",
              "      <td>37700.0</td>\n",
              "      <td>1700.0</td>\n",
              "      <td>https://leetcode.com/problems/longest-substrin...</td>\n",
              "      <td>https://leetcode.com/problems/longest-substrin...</td>\n",
              "    </tr>\n",
              "  </tbody>\n",
              "</table>\n",
              "</div>\n",
              "    <div class=\"colab-df-buttons\">\n",
              "\n",
              "  <div class=\"colab-df-container\">\n",
              "    <button class=\"colab-df-convert\" onclick=\"convertToInteractive('df-693d28c8-451c-4178-b68b-6b3c495971ab')\"\n",
              "            title=\"Convert this dataframe to an interactive table.\"\n",
              "            style=\"display:none;\">\n",
              "\n",
              "  <svg xmlns=\"http://www.w3.org/2000/svg\" height=\"24px\" viewBox=\"0 -960 960 960\">\n",
              "    <path d=\"M120-120v-720h720v720H120Zm60-500h600v-160H180v160Zm220 220h160v-160H400v160Zm0 220h160v-160H400v160ZM180-400h160v-160H180v160Zm440 0h160v-160H620v160ZM180-180h160v-160H180v160Zm440 0h160v-160H620v160Z\"/>\n",
              "  </svg>\n",
              "    </button>\n",
              "\n",
              "  <style>\n",
              "    .colab-df-container {\n",
              "      display:flex;\n",
              "      gap: 12px;\n",
              "    }\n",
              "\n",
              "    .colab-df-convert {\n",
              "      background-color: #E8F0FE;\n",
              "      border: none;\n",
              "      border-radius: 50%;\n",
              "      cursor: pointer;\n",
              "      display: none;\n",
              "      fill: #1967D2;\n",
              "      height: 32px;\n",
              "      padding: 0 0 0 0;\n",
              "      width: 32px;\n",
              "    }\n",
              "\n",
              "    .colab-df-convert:hover {\n",
              "      background-color: #E2EBFA;\n",
              "      box-shadow: 0px 1px 2px rgba(60, 64, 67, 0.3), 0px 1px 3px 1px rgba(60, 64, 67, 0.15);\n",
              "      fill: #174EA6;\n",
              "    }\n",
              "\n",
              "    .colab-df-buttons div {\n",
              "      margin-bottom: 4px;\n",
              "    }\n",
              "\n",
              "    [theme=dark] .colab-df-convert {\n",
              "      background-color: #3B4455;\n",
              "      fill: #D2E3FC;\n",
              "    }\n",
              "\n",
              "    [theme=dark] .colab-df-convert:hover {\n",
              "      background-color: #434B5C;\n",
              "      box-shadow: 0px 1px 3px 1px rgba(0, 0, 0, 0.15);\n",
              "      filter: drop-shadow(0px 1px 2px rgba(0, 0, 0, 0.3));\n",
              "      fill: #FFFFFF;\n",
              "    }\n",
              "  </style>\n",
              "\n",
              "    <script>\n",
              "      const buttonEl =\n",
              "        document.querySelector('#df-693d28c8-451c-4178-b68b-6b3c495971ab button.colab-df-convert');\n",
              "      buttonEl.style.display =\n",
              "        google.colab.kernel.accessAllowed ? 'block' : 'none';\n",
              "\n",
              "      async function convertToInteractive(key) {\n",
              "        const element = document.querySelector('#df-693d28c8-451c-4178-b68b-6b3c495971ab');\n",
              "        const dataTable =\n",
              "          await google.colab.kernel.invokeFunction('convertToInteractive',\n",
              "                                                    [key], {});\n",
              "        if (!dataTable) return;\n",
              "\n",
              "        const docLinkHtml = 'Like what you see? Visit the ' +\n",
              "          '<a target=\"_blank\" href=https://colab.research.google.com/notebooks/data_table.ipynb>data table notebook</a>'\n",
              "          + ' to learn more about interactive tables.';\n",
              "        element.innerHTML = '';\n",
              "        dataTable['output_type'] = 'display_data';\n",
              "        await google.colab.output.renderOutput(dataTable, element);\n",
              "        const docLink = document.createElement('div');\n",
              "        docLink.innerHTML = docLinkHtml;\n",
              "        element.appendChild(docLink);\n",
              "      }\n",
              "    </script>\n",
              "  </div>\n",
              "\n",
              "\n",
              "<div id=\"df-68e7bb38-fbd4-49a9-b0c3-2e64f2c026c9\">\n",
              "  <button class=\"colab-df-quickchart\" onclick=\"quickchart('df-68e7bb38-fbd4-49a9-b0c3-2e64f2c026c9')\"\n",
              "            title=\"Suggest charts\"\n",
              "            style=\"display:none;\">\n",
              "\n",
              "<svg xmlns=\"http://www.w3.org/2000/svg\" height=\"24px\"viewBox=\"0 0 24 24\"\n",
              "     width=\"24px\">\n",
              "    <g>\n",
              "        <path d=\"M19 3H5c-1.1 0-2 .9-2 2v14c0 1.1.9 2 2 2h14c1.1 0 2-.9 2-2V5c0-1.1-.9-2-2-2zM9 17H7v-7h2v7zm4 0h-2V7h2v10zm4 0h-2v-4h2v4z\"/>\n",
              "    </g>\n",
              "</svg>\n",
              "  </button>\n",
              "\n",
              "<style>\n",
              "  .colab-df-quickchart {\n",
              "      --bg-color: #E8F0FE;\n",
              "      --fill-color: #1967D2;\n",
              "      --hover-bg-color: #E2EBFA;\n",
              "      --hover-fill-color: #174EA6;\n",
              "      --disabled-fill-color: #AAA;\n",
              "      --disabled-bg-color: #DDD;\n",
              "  }\n",
              "\n",
              "  [theme=dark] .colab-df-quickchart {\n",
              "      --bg-color: #3B4455;\n",
              "      --fill-color: #D2E3FC;\n",
              "      --hover-bg-color: #434B5C;\n",
              "      --hover-fill-color: #FFFFFF;\n",
              "      --disabled-bg-color: #3B4455;\n",
              "      --disabled-fill-color: #666;\n",
              "  }\n",
              "\n",
              "  .colab-df-quickchart {\n",
              "    background-color: var(--bg-color);\n",
              "    border: none;\n",
              "    border-radius: 50%;\n",
              "    cursor: pointer;\n",
              "    display: none;\n",
              "    fill: var(--fill-color);\n",
              "    height: 32px;\n",
              "    padding: 0;\n",
              "    width: 32px;\n",
              "  }\n",
              "\n",
              "  .colab-df-quickchart:hover {\n",
              "    background-color: var(--hover-bg-color);\n",
              "    box-shadow: 0 1px 2px rgba(60, 64, 67, 0.3), 0 1px 3px 1px rgba(60, 64, 67, 0.15);\n",
              "    fill: var(--button-hover-fill-color);\n",
              "  }\n",
              "\n",
              "  .colab-df-quickchart-complete:disabled,\n",
              "  .colab-df-quickchart-complete:disabled:hover {\n",
              "    background-color: var(--disabled-bg-color);\n",
              "    fill: var(--disabled-fill-color);\n",
              "    box-shadow: none;\n",
              "  }\n",
              "\n",
              "  .colab-df-spinner {\n",
              "    border: 2px solid var(--fill-color);\n",
              "    border-color: transparent;\n",
              "    border-bottom-color: var(--fill-color);\n",
              "    animation:\n",
              "      spin 1s steps(1) infinite;\n",
              "  }\n",
              "\n",
              "  @keyframes spin {\n",
              "    0% {\n",
              "      border-color: transparent;\n",
              "      border-bottom-color: var(--fill-color);\n",
              "      border-left-color: var(--fill-color);\n",
              "    }\n",
              "    20% {\n",
              "      border-color: transparent;\n",
              "      border-left-color: var(--fill-color);\n",
              "      border-top-color: var(--fill-color);\n",
              "    }\n",
              "    30% {\n",
              "      border-color: transparent;\n",
              "      border-left-color: var(--fill-color);\n",
              "      border-top-color: var(--fill-color);\n",
              "      border-right-color: var(--fill-color);\n",
              "    }\n",
              "    40% {\n",
              "      border-color: transparent;\n",
              "      border-right-color: var(--fill-color);\n",
              "      border-top-color: var(--fill-color);\n",
              "    }\n",
              "    60% {\n",
              "      border-color: transparent;\n",
              "      border-right-color: var(--fill-color);\n",
              "    }\n",
              "    80% {\n",
              "      border-color: transparent;\n",
              "      border-right-color: var(--fill-color);\n",
              "      border-bottom-color: var(--fill-color);\n",
              "    }\n",
              "    90% {\n",
              "      border-color: transparent;\n",
              "      border-bottom-color: var(--fill-color);\n",
              "    }\n",
              "  }\n",
              "</style>\n",
              "\n",
              "  <script>\n",
              "    async function quickchart(key) {\n",
              "      const quickchartButtonEl =\n",
              "        document.querySelector('#' + key + ' button');\n",
              "      quickchartButtonEl.disabled = true;  // To prevent multiple clicks.\n",
              "      quickchartButtonEl.classList.add('colab-df-spinner');\n",
              "      try {\n",
              "        const charts = await google.colab.kernel.invokeFunction(\n",
              "            'suggestCharts', [key], {});\n",
              "      } catch (error) {\n",
              "        console.error('Error during call to suggestCharts:', error);\n",
              "      }\n",
              "      quickchartButtonEl.classList.remove('colab-df-spinner');\n",
              "      quickchartButtonEl.classList.add('colab-df-quickchart-complete');\n",
              "    }\n",
              "    (() => {\n",
              "      let quickchartButtonEl =\n",
              "        document.querySelector('#df-68e7bb38-fbd4-49a9-b0c3-2e64f2c026c9 button');\n",
              "      quickchartButtonEl.style.display =\n",
              "        google.colab.kernel.accessAllowed ? 'block' : 'none';\n",
              "    })();\n",
              "  </script>\n",
              "</div>\n",
              "    </div>\n",
              "  </div>\n"
            ],
            "application/vnd.google.colaboratory.intrinsic+json": {
              "type": "dataframe",
              "variable_name": "data",
              "summary": "{\n  \"name\": \"data\",\n  \"rows\": 2160,\n  \"fields\": [\n    {\n      \"column\": \"id\",\n      \"properties\": {\n        \"dtype\": \"number\",\n        \"std\": 862,\n        \"min\": 1,\n        \"max\": 3000,\n        \"num_unique_values\": 2160,\n        \"samples\": [\n          2894,\n          824,\n          2886\n        ],\n        \"semantic_type\": \"\",\n        \"description\": \"\"\n      }\n    },\n    {\n      \"column\": \"page_number\",\n      \"properties\": {\n        \"dtype\": \"number\",\n        \"std\": 17,\n        \"min\": 1,\n        \"max\": 60,\n        \"num_unique_values\": 54,\n        \"samples\": [\n          20,\n          56,\n          55\n        ],\n        \"semantic_type\": \"\",\n        \"description\": \"\"\n      }\n    },\n    {\n      \"column\": \"is_premium\",\n      \"properties\": {\n        \"dtype\": \"boolean\",\n        \"num_unique_values\": 1,\n        \"samples\": [\n          false\n        ],\n        \"semantic_type\": \"\",\n        \"description\": \"\"\n      }\n    },\n    {\n      \"column\": \"title\",\n      \"properties\": {\n        \"dtype\": \"string\",\n        \"num_unique_values\": 2160,\n        \"samples\": [\n          \"2894. Divisible and Non-divisible Sums Difference\"\n        ],\n        \"semantic_type\": \"\",\n        \"description\": \"\"\n      }\n    },\n    {\n      \"column\": \"problem_description\",\n      \"properties\": {\n        \"dtype\": \"string\",\n        \"num_unique_values\": 2160,\n        \"samples\": [\n          \"You are given positive integers n and m.\\nDefine two integers, num1 and num2, as follows:\\n\\nnum1: The sum of all integers in the range [1, n] that are not divisible by m.\\nnum2: The sum of all integers in the range [1, n] that are divisible by m.\\n\\nReturn the integer num1 - num2.\\n\\u00a0\\nExample 1:\\nInput: n = 10, m = 3\\nOutput: 19\\nExplanation: In the given example:\\n- Integers in the range [1, 10] that are not divisible by 3 are [1,2,4,5,7,8,10], num1 is the sum of those integers = 37.\\n- Integers in the range [1, 10] that are divisible by 3 are [3,6,9], num2 is the sum of those integers = 18.\\nWe return 37 - 18 = 19 as the answer.\\n\\nExample 2:\\nInput: n = 5, m = 6\\nOutput: 15\\nExplanation: In the given example:\\n- Integers in the range [1, 5] that are not divisible by 6 are [1,2,3,4,5], num1 is the sum of those integers = 15.\\n- Integers in the range [1, 5] that are divisible by 6 are [], num2 is the sum of those integers = 0.\\nWe return 15 - 0 = 15 as the answer.\\n\\nExample 3:\\nInput: n = 5, m = 1\\nOutput: -15\\nExplanation: In the given example:\\n- Integers in the range [1, 5] that are not divisible by 1 are [], num1 is the sum of those integers = 0.\\n- Integers in the range [1, 5] that are divisible by 1 are [1,2,3,4,5], num2 is the sum of those integers = 15.\\nWe return 0 - 15 = -15 as the answer.\\n\\n\\u00a0\\nConstraints:\\n\\n1 <= n, m <= 1000\\n\\n\"\n        ],\n        \"semantic_type\": \"\",\n        \"description\": \"\"\n      }\n    },\n    {\n      \"column\": \"topic_tags\",\n      \"properties\": {\n        \"dtype\": \"category\",\n        \"num_unique_values\": 826,\n        \"samples\": [\n          \"'Two Pointers', 'String', 'Stack', 'Greedy'\"\n        ],\n        \"semantic_type\": \"\",\n        \"description\": \"\"\n      }\n    },\n    {\n      \"column\": \"difficulty\",\n      \"properties\": {\n        \"dtype\": \"category\",\n        \"num_unique_values\": 3,\n        \"samples\": [\n          \"Easy\"\n        ],\n        \"semantic_type\": \"\",\n        \"description\": \"\"\n      }\n    },\n    {\n      \"column\": \"similar_questions\",\n      \"properties\": {\n        \"dtype\": \"string\",\n        \"num_unique_values\": 1280,\n        \"samples\": [\n          \"[\\\"'Number of Arithmetic Triplets'\\\", \\\"'Minimum Sum of Mountain Triplets I'\\\"]\"\n        ],\n        \"semantic_type\": \"\",\n        \"description\": \"\"\n      }\n    },\n    {\n      \"column\": \"no_similar_questions\",\n      \"properties\": {\n        \"dtype\": \"number\",\n        \"std\": 1.8104088720734157,\n        \"min\": 0.0,\n        \"max\": 21.0,\n        \"num_unique_values\": 16,\n        \"samples\": [\n          21.0\n        ],\n        \"semantic_type\": \"\",\n        \"description\": \"\"\n      }\n    },\n    {\n      \"column\": \"acceptance\",\n      \"properties\": {\n        \"dtype\": \"number\",\n        \"std\": 15.689720265481945,\n        \"min\": 11.3,\n        \"max\": 92.6,\n        \"num_unique_values\": 636,\n        \"samples\": [\n          56.7\n        ],\n        \"semantic_type\": \"\",\n        \"description\": \"\"\n      }\n    },\n    {\n      \"column\": \"accepted\",\n      \"properties\": {\n        \"dtype\": \"number\",\n        \"std\": 537300.6375774776,\n        \"min\": 1200.0,\n        \"max\": 11300000.0,\n        \"num_unique_values\": 1351,\n        \"samples\": [\n          409800.0\n        ],\n        \"semantic_type\": \"\",\n        \"description\": \"\"\n      }\n    },\n    {\n      \"column\": \"submission\",\n      \"properties\": {\n        \"dtype\": \"number\",\n        \"std\": 1118382.9485079432,\n        \"min\": 2400.0,\n        \"max\": 22100000.0,\n        \"num_unique_values\": 1481,\n        \"samples\": [\n          270700.0\n        ],\n        \"semantic_type\": \"\",\n        \"description\": \"\"\n      }\n    },\n    {\n      \"column\": \"solution\",\n      \"properties\": {\n        \"dtype\": \"number\",\n        \"std\": 2515.823036368688,\n        \"min\": 24.0,\n        \"max\": 26800.0,\n        \"num_unique_values\": 788,\n        \"samples\": [\n          240.0\n        ],\n        \"semantic_type\": \"\",\n        \"description\": \"\"\n      }\n    },\n    {\n      \"column\": \"discussion_count\",\n      \"properties\": {\n        \"dtype\": \"number\",\n        \"std\": 40.67562217312827,\n        \"min\": 0.0,\n        \"max\": 638.0,\n        \"num_unique_values\": 173,\n        \"samples\": [\n          117.0\n        ],\n        \"semantic_type\": \"\",\n        \"description\": \"\"\n      }\n    },\n    {\n      \"column\": \"likes\",\n      \"properties\": {\n        \"dtype\": \"number\",\n        \"std\": 4186.5679485409855,\n        \"min\": 15.0,\n        \"max\": 52700.0,\n        \"num_unique_values\": 787,\n        \"samples\": [\n          226.0\n        ],\n        \"semantic_type\": \"\",\n        \"description\": \"\"\n      }\n    },\n    {\n      \"column\": \"dislikes\",\n      \"properties\": {\n        \"dtype\": \"number\",\n        \"std\": 986.6933983163478,\n        \"min\": 1.0,\n        \"max\": 17200.0,\n        \"num_unique_values\": 620,\n        \"samples\": [\n          674.0\n        ],\n        \"semantic_type\": \"\",\n        \"description\": \"\"\n      }\n    },\n    {\n      \"column\": \"problem_URL\",\n      \"properties\": {\n        \"dtype\": \"string\",\n        \"num_unique_values\": 2160,\n        \"samples\": [\n          \"https://leetcode.com/problems/divisible-and-non-divisible-sums-difference\"\n        ],\n        \"semantic_type\": \"\",\n        \"description\": \"\"\n      }\n    },\n    {\n      \"column\": \"solution_URL\",\n      \"properties\": {\n        \"dtype\": \"string\",\n        \"num_unique_values\": 2160,\n        \"samples\": [\n          \"https://leetcode.com/problems/divisible-and-non-divisible-sums-difference/solution\"\n        ],\n        \"semantic_type\": \"\",\n        \"description\": \"\"\n      }\n    }\n  ]\n}"
            }
          },
          "metadata": {},
          "execution_count": 35
        }
      ]
    },
    {
      "cell_type": "markdown",
      "source": [
        "2. разделите выборку на тренировочное и тестовое множество"
      ],
      "metadata": {
        "id": "3aECqydIeKRt"
      }
    },
    {
      "cell_type": "code",
      "source": [
        "x = data[\"problem_description\"]\n",
        "y = data['difficulty']\n",
        "\n",
        "x_train, x_test, y_train, y_test = train_test_split(x,\n",
        "                                                    y,\n",
        "                                                    stratify=data['difficulty'],\n",
        "                                                    test_size=0.2\n",
        "                                                    )"
      ],
      "metadata": {
        "id": "oRapbbQ1eHEy"
      },
      "execution_count": 36,
      "outputs": []
    },
    {
      "cell_type": "markdown",
      "source": [
        "3. векторизуйте тексты"
      ],
      "metadata": {
        "id": "zE8xVxB1fR4O"
      }
    },
    {
      "cell_type": "code",
      "source": [
        "tfidf = TfidfVectorizer()\n",
        "tfidf.fit(x_train)\n",
        "\n",
        "X_train_vec = tfidf.transform(x_train)\n",
        "X_test_vec = tfidf.transform(x_test)"
      ],
      "metadata": {
        "id": "kgPcz7e0fRUS"
      },
      "execution_count": 37,
      "outputs": []
    },
    {
      "cell_type": "markdown",
      "source": [
        "4. закодируйте (если это требуется) зависимую переменную."
      ],
      "metadata": {
        "id": "vJ3cBBc8gLVh"
      }
    },
    {
      "cell_type": "code",
      "source": [
        "le_ = LabelEncoder()\n",
        "\n",
        "le_.fit(y_train)\n",
        "y_train_enc = le_.transform(y_train)\n",
        "y_test_enc = le_.transform(y_test)"
      ],
      "metadata": {
        "id": "-tPl19VCgfdy"
      },
      "execution_count": 38,
      "outputs": []
    },
    {
      "cell_type": "code",
      "source": [
        "le_.classes_"
      ],
      "metadata": {
        "colab": {
          "base_uri": "https://localhost:8080/"
        },
        "id": "egkxnLW0jQDb",
        "outputId": "048ebcc7-41e0-4d7b-a610-6f122e52ca55"
      },
      "execution_count": 39,
      "outputs": [
        {
          "output_type": "execute_result",
          "data": {
            "text/plain": [
              "array(['Easy', 'Hard', 'Medium'], dtype=object)"
            ]
          },
          "metadata": {},
          "execution_count": 39
        }
      ]
    },
    {
      "cell_type": "markdown",
      "source": [
        "**Предскажите сложность (difficulty) по тексту задания (problem_description)**"
      ],
      "metadata": {
        "id": "m9xpkEK3gyHZ"
      }
    },
    {
      "cell_type": "code",
      "source": [
        "logreg = LogisticRegression(multi_class='ovr', class_weight='balanced')\n",
        "logreg.fit(X_train_vec, y_train_enc)\n",
        "clf_preds = logreg.predict(X_test_vec)\n",
        "\n",
        "print(classification_report(y_test_enc, clf_preds, target_names=le_.classes_))"
      ],
      "metadata": {
        "colab": {
          "base_uri": "https://localhost:8080/"
        },
        "id": "pBxoqysqBFi3",
        "outputId": "8705be02-d810-4dad-93e5-81ed9a14af29"
      },
      "execution_count": 40,
      "outputs": [
        {
          "output_type": "stream",
          "name": "stdout",
          "text": [
            "              precision    recall  f1-score   support\n",
            "\n",
            "        Easy       0.50      0.59      0.54       118\n",
            "        Hard       0.30      0.35      0.33        93\n",
            "      Medium       0.54      0.45      0.49       221\n",
            "\n",
            "    accuracy                           0.47       432\n",
            "   macro avg       0.45      0.47      0.45       432\n",
            "weighted avg       0.48      0.47      0.47       432\n",
            "\n"
          ]
        }
      ]
    },
    {
      "cell_type": "code",
      "source": [
        "from sklearn.metrics import ConfusionMatrixDisplay\n",
        "ConfusionMatrixDisplay.from_predictions(y_test_enc, clf_preds)"
      ],
      "metadata": {
        "colab": {
          "base_uri": "https://localhost:8080/",
          "height": 467
        },
        "id": "xkmHj9cEBB8_",
        "outputId": "0a4d02f0-c361-4994-e850-8a9bd66d8cb2"
      },
      "execution_count": 41,
      "outputs": [
        {
          "output_type": "execute_result",
          "data": {
            "text/plain": [
              "<sklearn.metrics._plot.confusion_matrix.ConfusionMatrixDisplay at 0x780d72eeb190>"
            ]
          },
          "metadata": {},
          "execution_count": 41
        },
        {
          "output_type": "display_data",
          "data": {
            "text/plain": [
              "<Figure size 640x480 with 2 Axes>"
            ],
            "image/png": "[encoded data removed]"
          },
          "metadata": {}
        }
      ]
    },
    {
      "cell_type": "code",
      "source": [
        "# pd.Series(y_train).value_counts(normalize=True)"
      ],
      "metadata": {
        "colab": {
          "base_uri": "https://localhost:8080/"
        },
        "id": "u1up9UyOQM1_",
        "outputId": "1ff60baa-d941-4aca-ab6a-7021732c31de"
      },
      "execution_count": null,
      "outputs": [
        {
          "output_type": "execute_result",
          "data": {
            "text/plain": [
              "Medium    0.504051\n",
              "Easy      0.282986\n",
              "Hard      0.212963\n",
              "Name: proportion, dtype: float64"
            ]
          },
          "metadata": {},
          "execution_count": 10
        }
      ]
    },
    {
      "cell_type": "markdown",
      "source": [
        "**Доп задание: другая модель, анализ**"
      ],
      "metadata": {
        "id": "Qh9AdkAcB8-2"
      }
    },
    {
      "cell_type": "code",
      "source": [
        "from sklearn.naive_bayes import BernoulliNB\n",
        "\n",
        "model = BernoulliNB()\n",
        "model.fit(X_train_vec, y_train)\n",
        "\n",
        "y_pred = model.predict(X_test_vec)\n",
        "\n",
        "print(classification_report(y_test, y_pred))"
      ],
      "metadata": {
        "colab": {
          "base_uri": "https://localhost:8080/"
        },
        "id": "FdeCyR2H12Gy",
        "outputId": "1dc8acd6-7ffd-4e78-fed6-5fdbbb8df658"
      },
      "execution_count": 42,
      "outputs": [
        {
          "output_type": "stream",
          "name": "stdout",
          "text": [
            "              precision    recall  f1-score   support\n",
            "\n",
            "        Easy       0.55      0.36      0.43       118\n",
            "        Hard       0.29      0.06      0.11        93\n",
            "      Medium       0.53      0.80      0.64       221\n",
            "\n",
            "    accuracy                           0.52       432\n",
            "   macro avg       0.46      0.41      0.39       432\n",
            "weighted avg       0.48      0.52      0.47       432\n",
            "\n"
          ]
        }
      ]
    },
    {
      "cell_type": "markdown",
      "source": [
        "**Доп Задание: анализ выдачи модели**"
      ],
      "metadata": {
        "id": "VnB8Y9bK2LLN"
      }
    },
    {
      "cell_type": "markdown",
      "source": [
        "                  precision    recall  f1-score   support\n",
        "        Easy       0.63      0.42      0.50       117\n",
        "        Hard       0.44      0.13      0.20        94\n",
        "      Medium       0.56      0.83      0.67       221\n",
        "\n",
        "    accuracy                           0.56       432\n",
        "   macro avg       0.54      0.46      0.46       432\n",
        "\n",
        "weighted avg       0.55      0.56      0.52       432\n",
        "\n",
        "\n",
        "- Для категории Medium точность (precision) составляет 56%: из всех задач, которые модель предсказала как Medium, только 56% действительно являются таковыми. Полнота (accuracy) составляет 83%, что означает, что модель смогла корректно предсказать 83% всех истинных положительных случаев из общего числа таких случаев в тестовом наборе данных (то же, только подставив другие числа, можно сказать и про другие категории)\n",
        "\n",
        "- Общая точность модели составляет 0.56, что означает, что модель правильно классифицировала около 56% задач в тестовом наборе данных\n",
        "\n",
        "- F1-score показывает достаточное сбалансированное соотношение между точностью и полнотой для  классов Easy и Medium, но низкое для Hard\n",
        "- В целом модель имеет тенденцию к лучшему обнаружению и классификации задач сложности Medium, но  склонна к ошибкам при предсказании задач категорий Easy и Hard.\n"
      ],
      "metadata": {
        "id": "b0HOHNnN1-GA"
      }
    },
    {
      "cell_type": "markdown",
      "source": [
        "**Доп задание: другая модель, анализ**\n",
        "\n",
        "Random Forest"
      ],
      "metadata": {
        "id": "m0lvDGqn27ek"
      }
    },
    {
      "cell_type": "code",
      "source": [
        "randfor = RandomForestClassifier(random_state=42, n_estimators=1000)\n",
        "randfor.fit(X_train_vec, y_train)\n",
        "\n",
        "y_pred = randfor.predict(X_test_vec)\n",
        "\n",
        "print(classification_report(y_test, y_pred))"
      ],
      "metadata": {
        "colab": {
          "base_uri": "https://localhost:8080/"
        },
        "id": "5XlpG5Zm3VWu",
        "outputId": "762f1098-5594-4b70-85ef-9e1b1e0d1f42"
      },
      "execution_count": 43,
      "outputs": [
        {
          "output_type": "stream",
          "name": "stdout",
          "text": [
            "              precision    recall  f1-score   support\n",
            "\n",
            "        Easy       0.67      0.31      0.42       118\n",
            "        Hard       0.50      0.01      0.02        93\n",
            "      Medium       0.54      0.92      0.68       221\n",
            "\n",
            "    accuracy                           0.56       432\n",
            "   macro avg       0.57      0.41      0.37       432\n",
            "weighted avg       0.57      0.56      0.47       432\n",
            "\n"
          ]
        }
      ]
    },
    {
      "cell_type": "markdown",
      "source": [
        "                precision  recall    f1-score   support\n",
        "\n",
        "        Easy       0.81      0.36      0.50       119\n",
        "        Hard       0.50      0.01      0.02        95\n",
        "      Medium       0.55      0.95      0.70       218\n",
        "\n",
        "    accuracy                           0.58       432\n",
        "   \n",
        "   macro avg       0.62      0.44      0.41       432\n",
        "\n",
        "weighted avg       0.61      0.58      0.49       432\n",
        "\n",
        "\n",
        "- Для категории Medium точность (precision) составляет 55%: из всех задач, которые модель предсказала как Easy, только 55% действительно являются таковыми. Полнота (accuracy) составляет 95%, что означает, что модель смогла корректно предсказать 95% всех истинных положительных случаев из общего числа таких случаев в тестовом наборе данных (то же, только с другими числами можно сказать и про другие категории)\n",
        "\n",
        "-\n",
        "Mодель показывает хорошую точность и полноту для категории Medium, но плохо справляется с категориями Easy и Hard. Это может свидетельствовать о несбалансированности данных или неэффективности этого алгоритма классификации для некоторых категорий."
      ],
      "metadata": {
        "id": "TYj2OxnF3gQw"
      }
    },
    {
      "cell_type": "markdown",
      "source": [
        "# Задание 3:\n",
        "\n",
        "Хотя бы для одной из задач 1 или 2 выполните кросс-валидацию и подбор гиперпараметров. Не обязательно делать и то и другое для одной и той же задачи: допустим, вы можете выполнить cross_validate для задачи 1 и GridSearchCV для задачи 2.\n",
        "\n",
        "(2 балла: 1 за кросс-валидацию, 1 за поиск гиперпараметров)"
      ],
      "metadata": {
        "id": "Xe0Z6cMC-N6D"
      }
    },
    {
      "cell_type": "markdown",
      "source": [
        "**Кросс-валидация для задания 1**"
      ],
      "metadata": {
        "id": "MLyN1ipODTWh"
      }
    },
    {
      "cell_type": "code",
      "source": [
        "clf_for_cross_val = LogisticRegression(multi_class='ovr', class_weight='balanced')\n",
        "scoring = {'f1': 'f1_weighted'}\n",
        "cv_results = cross_validate(clf_for_cross_val,\n",
        "                            X_train_vec,\n",
        "                            y_train_enc,\n",
        "                            cv=5,\n",
        "                            scoring=scoring)"
      ],
      "metadata": {
        "id": "lvnQaxT-Dal8"
      },
      "execution_count": 44,
      "outputs": []
    },
    {
      "cell_type": "code",
      "source": [
        "cv_results"
      ],
      "metadata": {
        "colab": {
          "base_uri": "https://localhost:8080/"
        },
        "id": "CrFph3aPDyE4",
        "outputId": "7467bbf8-46fc-49ad-9f51-7775512666da"
      },
      "execution_count": 45,
      "outputs": [
        {
          "output_type": "execute_result",
          "data": {
            "text/plain": [
              "{'fit_time': array([0.50580716, 0.75032663, 0.53622437, 1.07905507, 0.40838361]),\n",
              " 'score_time': array([0.00925922, 0.00296283, 0.01081324, 0.01424384, 0.00398612]),\n",
              " 'test_f1': array([0.48797309, 0.47942331, 0.523095  , 0.45664783, 0.53492102])}"
            ]
          },
          "metadata": {},
          "execution_count": 45
        }
      ]
    },
    {
      "cell_type": "markdown",
      "source": [
        "# Задание 2\n",
        "\n",
        "Предскажите процент принятых решений (acceptance) по тексту задания (problem_description)."
      ],
      "metadata": {
        "id": "bbjyTuMOGJBL"
      }
    },
    {
      "cell_type": "code",
      "source": [
        "X_train_reg, X_test_reg, y_train_reg, y_test_reg = train_test_split(data['problem_description'],\n",
        "                                                                    data['acceptance'],\n",
        "                                                                    test_size=0.2)"
      ],
      "metadata": {
        "id": "MKDIm04_D0No"
      },
      "execution_count": 46,
      "outputs": []
    },
    {
      "cell_type": "code",
      "source": [
        "count = CountVectorizer()\n",
        "count.fit(X_train_reg)\n",
        "X_train_reg_trandformed = count.transform(X_train_reg)\n",
        "X_test_reg_trandformed = count.transform(X_test_reg)"
      ],
      "metadata": {
        "id": "KSHuU4YOD3WG"
      },
      "execution_count": 47,
      "outputs": []
    },
    {
      "cell_type": "code",
      "source": [
        "linear = LinearRegression()\n",
        "linear.fit(X_train_reg_trandformed, y_train_reg)\n",
        "linear_preds = linear.predict(X_test_reg_trandformed)"
      ],
      "metadata": {
        "id": "82QVmuhYD6ld"
      },
      "execution_count": 48,
      "outputs": []
    },
    {
      "cell_type": "code",
      "source": [
        "def get_scores(y_test, y_pred):\n",
        "    print('R squared: ', r2_score(y_test, y_pred))\n",
        "    print('MSE: ', mean_squared_error(y_test, y_pred))\n",
        "    print('MAE: ', mean_absolute_error(y_test, y_pred))\n",
        "\n",
        "get_scores(y_test_reg, linear_preds)"
      ],
      "metadata": {
        "colab": {
          "base_uri": "https://localhost:8080/"
        },
        "id": "sCFp_4tYD-o_",
        "outputId": "bd0d9e0e-1651-4093-c7ac-0dd3a3e7de5d"
      },
      "execution_count": 49,
      "outputs": [
        {
          "output_type": "stream",
          "name": "stdout",
          "text": [
            "R squared:  -3.6325324155191474\n",
            "MSE:  1245.4044701649404\n",
            "MAE:  26.168427520640538\n"
          ]
        }
      ]
    },
    {
      "cell_type": "code",
      "source": [
        "ridge = Ridge()\n",
        "ridge.fit(X_train_reg_trandformed, y_train_reg)\n",
        "ridge_preds = ridge.predict(X_test_reg_trandformed)\n",
        "get_scores(y_test_reg, ridge_preds)"
      ],
      "metadata": {
        "colab": {
          "base_uri": "https://localhost:8080/"
        },
        "id": "FAqfcZkfEOPW",
        "outputId": "594d106f-c994-4650-cbfd-9e7fda7502cf"
      },
      "execution_count": 50,
      "outputs": [
        {
          "output_type": "stream",
          "name": "stdout",
          "text": [
            "R squared:  -1.1134916615246566\n",
            "MSE:  568.1885687623756\n",
            "MAE:  18.524561184186044\n"
          ]
        }
      ]
    },
    {
      "cell_type": "code",
      "source": [
        "lasso = Lasso()\n",
        "lasso.fit(X_train_reg_trandformed, y_train_reg)\n",
        "lasso_preds = lasso.predict(X_test_reg_trandformed)\n",
        "get_scores(y_test_reg, lasso_preds)"
      ],
      "metadata": {
        "colab": {
          "base_uri": "https://localhost:8080/"
        },
        "id": "7h1T2f5BEQSi",
        "outputId": "8b4ff6b0-c071-4aeb-99ad-d4d196dc1152"
      },
      "execution_count": 51,
      "outputs": [
        {
          "output_type": "stream",
          "name": "stdout",
          "text": [
            "R squared:  0.12954224452271967\n",
            "MSE:  234.01282117950566\n",
            "MAE:  12.662208152044231\n"
          ]
        }
      ]
    },
    {
      "cell_type": "markdown",
      "source": [
        "# Задание 3\n",
        "\n",
        "**Grid-Search** для задания 2"
      ],
      "metadata": {
        "id": "p7xiDAfQGRXR"
      }
    },
    {
      "cell_type": "code",
      "source": [
        "param_grid = {'alpha': np.arange(0.1, 2, 0.2)}\n",
        "np.arange(0.1, 2, 0.2)\n",
        "lasso_for_gridsearch = Lasso()\n",
        "gs = GridSearchCV(lasso_for_gridsearch, param_grid)\n",
        "gs.fit(X_train_reg_trandformed, y_train_reg)\n",
        "gs.cv_results_\n",
        "gs.best_params_\n",
        "preds_gs = gs.predict(X_test_reg_trandformed)\n",
        "get_scores(y_test_reg, preds_gs)\n"
      ],
      "metadata": {
        "colab": {
          "base_uri": "https://localhost:8080/"
        },
        "id": "vhzo5Q8dEV0P",
        "outputId": "21ab7fba-346f-4e23-b21d-33f40e80b60d"
      },
      "execution_count": 52,
      "outputs": [
        {
          "output_type": "stream",
          "name": "stdout",
          "text": [
            "R squared:  0.18761715180906013\n",
            "MSE:  218.40003261130792\n",
            "MAE:  12.141707922296595\n"
          ]
        }
      ]
    }
  ]
}